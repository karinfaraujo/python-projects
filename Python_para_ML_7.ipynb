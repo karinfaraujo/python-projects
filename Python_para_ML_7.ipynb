{
  "nbformat": 4,
  "nbformat_minor": 0,
  "metadata": {
    "colab": {
      "provenance": [],
      "authorship_tag": "ABX9TyOQ8vQ3NReCZwIREj/ng3Ea",
      "include_colab_link": true
    },
    "kernelspec": {
      "name": "python3",
      "display_name": "Python 3"
    },
    "language_info": {
      "name": "python"
    }
  },
  "cells": [
    {
      "cell_type": "markdown",
      "metadata": {
        "id": "view-in-github",
        "colab_type": "text"
      },
      "source": [
        "<a href=\"https://colab.research.google.com/github/karinfaraujo/python-projects/blob/main/Python_para_ML_7.ipynb\" target=\"_parent\"><img src=\"https://colab.research.google.com/assets/colab-badge.svg\" alt=\"Open In Colab\"/></a>"
      ]
    },
    {
      "cell_type": "markdown",
      "source": [
        "#**Python para Machine Learning - 7**"
      ],
      "metadata": {
        "id": "uReEq_AFv_2F"
      }
    },
    {
      "cell_type": "markdown",
      "source": [
        "##**Atribuição de Variáveis**"
      ],
      "metadata": {
        "id": "t6f1DOscERxD"
      }
    },
    {
      "cell_type": "code",
      "source": [
        "# minhas características\n",
        "meunome = 'Karin'\n",
        "minhaidade = 31"
      ],
      "metadata": {
        "id": "2VV4nKkaEU6l"
      },
      "execution_count": null,
      "outputs": []
    },
    {
      "cell_type": "markdown",
      "source": [
        "OBS.: O **hashtag #** na frente de uma linha torna ela um **comentário**, pois o interpretador ignora tudo que vem depois dela."
      ],
      "metadata": {
        "id": "4bh7uoEEZuGR"
      }
    },
    {
      "cell_type": "code",
      "source": [
        "print(meunome)\n",
        "print(minhaidade)"
      ],
      "metadata": {
        "colab": {
          "base_uri": "https://localhost:8080/"
        },
        "id": "UjxeV1N0EdKR",
        "outputId": "462b090a-0f4d-453d-fbf4-a3d6862efee6"
      },
      "execution_count": null,
      "outputs": [
        {
          "output_type": "stream",
          "name": "stdout",
          "text": [
            "Karin\n",
            "31\n"
          ]
        }
      ]
    },
    {
      "cell_type": "code",
      "source": [
        "minha_idade = 31"
      ],
      "metadata": {
        "id": "gqwmK1eEE8uC"
      },
      "execution_count": null,
      "outputs": []
    },
    {
      "cell_type": "markdown",
      "source": [
        "Não é possível atribuir variáveis com nomes começando com números, nem com espaços no nome ou com aspas."
      ],
      "metadata": {
        "id": "M3JJEwPAZqpO"
      }
    },
    {
      "cell_type": "code",
      "source": [
        "help(print)"
      ],
      "metadata": {
        "colab": {
          "base_uri": "https://localhost:8080/"
        },
        "id": "E3Be1tlJE7js",
        "outputId": "3fb9aba7-f795-40c8-b6b2-53fece7c8652"
      },
      "execution_count": null,
      "outputs": [
        {
          "output_type": "stream",
          "name": "stdout",
          "text": [
            "Help on built-in function print in module builtins:\n",
            "\n",
            "print(...)\n",
            "    print(value, ..., sep=' ', end='\\n', file=sys.stdout, flush=False)\n",
            "    \n",
            "    Prints the values to a stream, or to sys.stdout by default.\n",
            "    Optional keyword arguments:\n",
            "    file:  a file-like object (stream); defaults to the current sys.stdout.\n",
            "    sep:   string inserted between values, default a space.\n",
            "    end:   string appended after the last value, default a newline.\n",
            "    flush: whether to forcibly flush the stream.\n",
            "\n"
          ]
        }
      ]
    },
    {
      "cell_type": "markdown",
      "source": [
        "## **Primeiras Funções** <a name=\"prim\"></a>"
      ],
      "metadata": {
        "id": "FbUMjc_fc7hr"
      }
    },
    {
      "cell_type": "markdown",
      "source": [
        "A função **len**, retorna o tamanho de uma string (e de outros tipos de objetos também).\n",
        "\n",
        "A função **type**, retorna o tipo do objeto na variável de entrada.\n",
        "\n",
        "A função **round**, arredonda um número de acordo com as casas decimas desejadas.\n",
        "\n",
        "E a função **help**, retorna a documentação da função inserida como entrada."
      ],
      "metadata": {
        "id": "dj72syUadCIi"
      }
    },
    {
      "cell_type": "code",
      "source": [
        "len(meunome)"
      ],
      "metadata": {
        "colab": {
          "base_uri": "https://localhost:8080/"
        },
        "id": "xOdupI3EEqVf",
        "outputId": "cd9a4988-de5f-4222-a763-ec8431ce0b42"
      },
      "execution_count": null,
      "outputs": [
        {
          "output_type": "execute_result",
          "data": {
            "text/plain": [
              "5"
            ]
          },
          "metadata": {},
          "execution_count": 9
        }
      ]
    },
    {
      "cell_type": "markdown",
      "source": [
        "Não só no Python, mas em programação em geral, sempre precisamos controlar o tipo das variáveis que utilizamos."
      ],
      "metadata": {
        "id": "b3EaTt3mdQPR"
      }
    },
    {
      "cell_type": "code",
      "source": [
        "minha_idade = '33'\n",
        "type(minha_idade)"
      ],
      "metadata": {
        "colab": {
          "base_uri": "https://localhost:8080/"
        },
        "id": "yRCXJkJ1dYHC",
        "outputId": "997589f6-3b36-42ea-9c7f-3a34915b6271"
      },
      "execution_count": null,
      "outputs": [
        {
          "output_type": "execute_result",
          "data": {
            "text/plain": [
              "str"
            ]
          },
          "metadata": {},
          "execution_count": 2
        }
      ]
    },
    {
      "cell_type": "markdown",
      "source": [
        "Usando a função **int** para converter a variável em formato string para o formato inteiro."
      ],
      "metadata": {
        "id": "jpaXfTsrdgpT"
      }
    },
    {
      "cell_type": "code",
      "source": [
        "\n",
        "minha_idade = int(minha_idade)\n",
        "type(minha_idade)"
      ],
      "metadata": {
        "colab": {
          "base_uri": "https://localhost:8080/"
        },
        "id": "53AgoskudkIL",
        "outputId": "1c19942c-0500-4fab-9491-2811d94ee9dc"
      },
      "execution_count": null,
      "outputs": [
        {
          "output_type": "execute_result",
          "data": {
            "text/plain": [
              "int"
            ]
          },
          "metadata": {},
          "execution_count": 3
        }
      ]
    },
    {
      "cell_type": "markdown",
      "source": [
        "##**Operadores Aritméticos**"
      ],
      "metadata": {
        "id": "g4oiJS-qFyAj"
      }
    },
    {
      "cell_type": "markdown",
      "source": [
        "Confira na tabela abaixo como funcionam os operadores aritméticos em Python.\n",
        "\n",
        "Em especial, veja que a sintaxe da exponenciação não é feita através do sinal '^'."
      ],
      "metadata": {
        "id": "bGYIGZ4PdyyH"
      }
    },
    {
      "cell_type": "markdown",
      "source": [
        "| Operator     | Name           | Description                                            |\n",
        "|--------------|----------------|--------------------------------------------------------|\n",
        "| ``a + b``    | Adiçao       | Soma entre ``a`` e ``b``                                 |\n",
        "| ``a - b``    | Subtração    | Diferença entre ``a`` e ``b``                          |\n",
        "| ``a * b``    | Multiplicação | Produto entre ``a`` e ``b``                             |\n",
        "| ``a / b``    | Divisão  | Divisão usual entre ``a`` e ``b``                            |\n",
        "| ``a // b``   | Divisão inteira | A divisão entre ``a`` e ``b``, removendo as partes decimais |\n",
        "| ``a % b``    | Resto da divisão        | O resto da divisão inteira de ``a`` por ``b``     |\n",
        "| ``a ** b``   | Exponenciação | ``a`` elevado a ``b``                     |\n",
        "| ``-a``       | Negação       | O negativo de ``a``                                  |"
      ],
      "metadata": {
        "id": "4QtSrGtcd8zY"
      }
    },
    {
      "cell_type": "code",
      "source": [
        "a = 2\n",
        "b = 5\n",
        "\n",
        "print('Soma:', a + b)\n",
        "print('Dif:', a - b)\n",
        "print('Div:', a / b)\n",
        "print('Mult:', a * b)\n",
        "\n",
        "print('Exponenciação:', a ** b)\n",
        "print('Resto da divisao:', b % a)\n",
        "print('Divisao Inteira:', b // a)"
      ],
      "metadata": {
        "colab": {
          "base_uri": "https://localhost:8080/"
        },
        "id": "Ho4LXhdaF3As",
        "outputId": "66b9aceb-528f-4f7f-cb83-4f5f6b132155"
      },
      "execution_count": null,
      "outputs": [
        {
          "output_type": "stream",
          "name": "stdout",
          "text": [
            "Soma: 7\n",
            "Dif: -3\n",
            "Div: 0.4\n",
            "Mult: 10\n",
            "Exponenciação: 32\n",
            "Resto da divisao: 1\n",
            "Divisao Inteira: 2\n"
          ]
        }
      ]
    },
    {
      "cell_type": "markdown",
      "source": [
        "##**Comparações e Booleanos**"
      ],
      "metadata": {
        "id": "0XMPbE7wHGlo"
      }
    },
    {
      "cell_type": "markdown",
      "source": [
        "Quando comparamos objetos em Python é como se estivéssemos fazendo uma pergunta a ele. Duas variáveis são iguais? Uma é maior que a outra?\n",
        "\n",
        "E a resposta é um objeto do tipo **booleano**, que é indicado por **True** ou **False**, indicando, respectivamente, se a resposta é verdadeira ou falsa."
      ],
      "metadata": {
        "id": "eV1hE9H3eKvP"
      }
    },
    {
      "cell_type": "code",
      "source": [
        "a < b"
      ],
      "metadata": {
        "colab": {
          "base_uri": "https://localhost:8080/"
        },
        "id": "oTf_pB_fHJ9Y",
        "outputId": "10399b94-8ba0-4697-ff31-1a0c7c37b760"
      },
      "execution_count": null,
      "outputs": [
        {
          "output_type": "execute_result",
          "data": {
            "text/plain": [
              "True"
            ]
          },
          "metadata": {},
          "execution_count": 15
        }
      ]
    },
    {
      "cell_type": "code",
      "source": [
        "b < a"
      ],
      "metadata": {
        "colab": {
          "base_uri": "https://localhost:8080/"
        },
        "id": "58bJ-qxmHPSu",
        "outputId": "6d11f318-ffc8-4334-a24c-0af80d6860ae"
      },
      "execution_count": null,
      "outputs": [
        {
          "output_type": "execute_result",
          "data": {
            "text/plain": [
              "False"
            ]
          },
          "metadata": {},
          "execution_count": 17
        }
      ]
    },
    {
      "cell_type": "code",
      "source": [
        "type (a<b)"
      ],
      "metadata": {
        "colab": {
          "base_uri": "https://localhost:8080/"
        },
        "id": "NdXlv9oNHSRn",
        "outputId": "34131679-a8f2-4508-c775-d543ca0397a6"
      },
      "execution_count": null,
      "outputs": [
        {
          "output_type": "execute_result",
          "data": {
            "text/plain": [
              "bool"
            ]
          },
          "metadata": {},
          "execution_count": 18
        }
      ]
    },
    {
      "cell_type": "code",
      "source": [
        "# Conectivos Lógicos\n",
        "\n",
        "True and False"
      ],
      "metadata": {
        "colab": {
          "base_uri": "https://localhost:8080/"
        },
        "id": "QzPQXXKeHYwI",
        "outputId": "4adfb438-86b5-403a-ce39-9b4a421f9fbb"
      },
      "execution_count": null,
      "outputs": [
        {
          "output_type": "execute_result",
          "data": {
            "text/plain": [
              "False"
            ]
          },
          "metadata": {},
          "execution_count": 19
        }
      ]
    },
    {
      "cell_type": "code",
      "source": [
        "True or False"
      ],
      "metadata": {
        "colab": {
          "base_uri": "https://localhost:8080/"
        },
        "id": "NnU-XeDoHpPP",
        "outputId": "ac8d14ab-45b9-489c-b190-14ad803e422c"
      },
      "execution_count": null,
      "outputs": [
        {
          "output_type": "execute_result",
          "data": {
            "text/plain": [
              "True"
            ]
          },
          "metadata": {},
          "execution_count": 20
        }
      ]
    },
    {
      "cell_type": "code",
      "source": [
        "not False"
      ],
      "metadata": {
        "colab": {
          "base_uri": "https://localhost:8080/"
        },
        "id": "ThQWZ5nuHuA4",
        "outputId": "c9e57e7a-2768-47d1-c6f5-3ce743839a09"
      },
      "execution_count": null,
      "outputs": [
        {
          "output_type": "execute_result",
          "data": {
            "text/plain": [
              "True"
            ]
          },
          "metadata": {},
          "execution_count": 21
        }
      ]
    },
    {
      "cell_type": "code",
      "source": [
        "not True"
      ],
      "metadata": {
        "colab": {
          "base_uri": "https://localhost:8080/"
        },
        "id": "f2hQ_x-9H0KD",
        "outputId": "8efd2105-78b3-4596-cd2c-c52462895ad4"
      },
      "execution_count": null,
      "outputs": [
        {
          "output_type": "execute_result",
          "data": {
            "text/plain": [
              "False"
            ]
          },
          "metadata": {},
          "execution_count": 22
        }
      ]
    },
    {
      "cell_type": "code",
      "source": [
        "a == b"
      ],
      "metadata": {
        "colab": {
          "base_uri": "https://localhost:8080/"
        },
        "id": "Z3LbGyutH1AU",
        "outputId": "84974f77-26ca-49e6-efba-7a43a90acfd1"
      },
      "execution_count": null,
      "outputs": [
        {
          "output_type": "execute_result",
          "data": {
            "text/plain": [
              "False"
            ]
          },
          "metadata": {},
          "execution_count": 23
        }
      ]
    },
    {
      "cell_type": "code",
      "source": [
        "(a == b) or (a < b)"
      ],
      "metadata": {
        "colab": {
          "base_uri": "https://localhost:8080/"
        },
        "id": "Zm1H4nfRH6r7",
        "outputId": "bed4ae29-1b98-467c-8f61-a5d921030dcc"
      },
      "execution_count": null,
      "outputs": [
        {
          "output_type": "execute_result",
          "data": {
            "text/plain": [
              "True"
            ]
          },
          "metadata": {},
          "execution_count": 24
        }
      ]
    },
    {
      "cell_type": "code",
      "source": [
        "(a <= b)"
      ],
      "metadata": {
        "colab": {
          "base_uri": "https://localhost:8080/"
        },
        "id": "xsxz213mIAqa",
        "outputId": "c5829a90-0a1e-40fc-f200-e76f3af97018"
      },
      "execution_count": null,
      "outputs": [
        {
          "output_type": "execute_result",
          "data": {
            "text/plain": [
              "True"
            ]
          },
          "metadata": {},
          "execution_count": 25
        }
      ]
    },
    {
      "cell_type": "code",
      "source": [
        "(a >= b)"
      ],
      "metadata": {
        "colab": {
          "base_uri": "https://localhost:8080/"
        },
        "id": "J5GePELNIIxS",
        "outputId": "06805b41-31ac-4484-985c-925193c8cc5a"
      },
      "execution_count": null,
      "outputs": [
        {
          "output_type": "execute_result",
          "data": {
            "text/plain": [
              "False"
            ]
          },
          "metadata": {},
          "execution_count": 26
        }
      ]
    },
    {
      "cell_type": "code",
      "source": [
        "a == b"
      ],
      "metadata": {
        "colab": {
          "base_uri": "https://localhost:8080/"
        },
        "id": "1RE01jL-IOmz",
        "outputId": "e2d9e481-7635-45a1-a8cc-e5dc8e91273f"
      },
      "execution_count": null,
      "outputs": [
        {
          "output_type": "execute_result",
          "data": {
            "text/plain": [
              "False"
            ]
          },
          "metadata": {},
          "execution_count": 27
        }
      ]
    },
    {
      "cell_type": "code",
      "source": [
        "a != b"
      ],
      "metadata": {
        "colab": {
          "base_uri": "https://localhost:8080/"
        },
        "id": "KO1e_cqOISi4",
        "outputId": "dc4091fd-b0c4-45fb-e081-28b363c20c5c"
      },
      "execution_count": null,
      "outputs": [
        {
          "output_type": "execute_result",
          "data": {
            "text/plain": [
              "True"
            ]
          },
          "metadata": {},
          "execution_count": 29
        }
      ]
    },
    {
      "cell_type": "markdown",
      "source": [
        "##**Condicional IF-ELSE**"
      ],
      "metadata": {
        "id": "vSohxrhSIfSO"
      }
    },
    {
      "cell_type": "markdown",
      "source": [
        "Temos a versão IF ELSE, e a versão IF ELIF ELSE.\n",
        "\n",
        "Note que é possível utilizar o ELIF várias vezes se necessário.\n",
        "\n",
        "No espaço de condição, o Python espera um objeto booleano. Se for True, ele executa, se for False, segue adiante.\n",
        "\n",
        "Note também a estrutura de identação do Python. Aqui não usamos (), [] ou {} para estipular o que deve ser executado nas condicionais. Simplesmente colocamos o código que deve ser executado na linha seguinte, mas identado. Em geral, se utiliza o espaço de **1 tab**."
      ],
      "metadata": {
        "id": "QL3UuLeReoy9"
      }
    },
    {
      "cell_type": "code",
      "source": [
        "if a > b:\n",
        "    print('A condição foi TRUE')\n",
        "else:\n",
        "    print('A condição foi FALSE')"
      ],
      "metadata": {
        "colab": {
          "base_uri": "https://localhost:8080/"
        },
        "id": "aepmbJ08IixU",
        "outputId": "2dd7b551-9cc9-4da9-e9d5-65cc6b4fdd2c"
      },
      "execution_count": null,
      "outputs": [
        {
          "output_type": "stream",
          "name": "stdout",
          "text": [
            "A condição foi FALSE\n"
          ]
        }
      ]
    },
    {
      "cell_type": "code",
      "source": [
        "if a > b:\n",
        "    print('A condição foi TRUE')\n",
        "    print('A condição foi TRUE')\n",
        "    print('A condição foi TRUE')\n",
        "    print('A condição foi TRUE')\n",
        "    print('A condição foi TRUE')\n",
        "    print('A condição foi TRUE')\n",
        "else:\n",
        "    print('A condição foi FALSE')\n",
        "    print('A condição foi FALSE')\n",
        "    print('A condição foi FALSE')"
      ],
      "metadata": {
        "colab": {
          "base_uri": "https://localhost:8080/"
        },
        "id": "z5pPD4IZJA8o",
        "outputId": "fe14ba34-661d-46be-c144-a72549a75156"
      },
      "execution_count": null,
      "outputs": [
        {
          "output_type": "stream",
          "name": "stdout",
          "text": [
            "A condição foi FALSE\n",
            "A condição foi FALSE\n",
            "A condição foi FALSE\n"
          ]
        }
      ]
    },
    {
      "cell_type": "code",
      "source": [
        "if a < b:\n",
        "    print('A condição foi TRUE')\n",
        "    print('A condição foi TRUE')\n",
        "    print('A condição foi TRUE')\n",
        "    print('A condição foi TRUE')\n",
        "    print('A condição foi TRUE')\n",
        "    print('A condição foi TRUE')\n",
        "else:\n",
        "    print('A condição foi FALSE')\n",
        "    print('A condição foi FALSE')\n",
        "    print('A condição foi FALSE')"
      ],
      "metadata": {
        "colab": {
          "base_uri": "https://localhost:8080/"
        },
        "id": "gPwcU805Jqiz",
        "outputId": "15e4c014-1e6e-4577-900d-88a5174bc777"
      },
      "execution_count": null,
      "outputs": [
        {
          "output_type": "stream",
          "name": "stdout",
          "text": [
            "A condição foi TRUE\n",
            "A condição foi TRUE\n",
            "A condição foi TRUE\n",
            "A condição foi TRUE\n",
            "A condição foi TRUE\n",
            "A condição foi TRUE\n"
          ]
        }
      ]
    },
    {
      "cell_type": "markdown",
      "source": [
        "Equação do Segundo Grau:\n",
        "\n",
        "$$ a x^2 + bx + c = 0 $$"
      ],
      "metadata": {
        "id": "P800PctHJ0lk"
      }
    },
    {
      "cell_type": "code",
      "source": [
        "from re import X\n",
        "a, b, c = 1, 2, -1\n",
        "\n",
        "\n",
        "delta = b**2 - 4*a*c\n",
        "\n",
        "delta\n",
        "\n",
        "if delta > 0:\n",
        "    x1 = (-b + delta**(1/2))/(2*a)\n",
        "    x2 = (-b - delta**(1/2))/(2*a)\n",
        "    print('As raízes são {} e {}'.format(x1,x2))\n",
        "elif delta == 0:\n",
        "    x = -b/(2*a)\n",
        "    print('A raíz é {}'.format(x))\n",
        "else:\n",
        "    print('A equação não possui raízes reais')"
      ],
      "metadata": {
        "colab": {
          "base_uri": "https://localhost:8080/"
        },
        "id": "Cs6mde7yJ_Ee",
        "outputId": "e05d8f08-8980-4ebf-b95e-debcf96b0de8"
      },
      "execution_count": null,
      "outputs": [
        {
          "output_type": "stream",
          "name": "stdout",
          "text": [
            "As raízes são 0.41421356237309515 e -2.414213562373095\n"
          ]
        }
      ]
    },
    {
      "cell_type": "code",
      "source": [
        "from re import X\n",
        "a, b, c = 1, 2, 1\n",
        "\n",
        "\n",
        "delta = b**2 - 4*a*c\n",
        "\n",
        "delta\n",
        "\n",
        "if delta > 0:\n",
        "    x1 = round((-b + delta**(1/2))/(2*a),3)\n",
        "    x2 = round((-b - delta**(1/2))/(2*a),3)\n",
        "    print('As raízes são {} e {}'.format(x1,x2))\n",
        "elif delta == 0:\n",
        "    x = round(-b/(2*a),3)\n",
        "    print('A raíz é {}'.format(x))\n",
        "else:\n",
        "    print('A equação não possui raízes reais')"
      ],
      "metadata": {
        "colab": {
          "base_uri": "https://localhost:8080/"
        },
        "id": "loVsepxxLi-E",
        "outputId": "02d60eee-e4a2-4db4-f3cd-f9a060828f03"
      },
      "execution_count": null,
      "outputs": [
        {
          "output_type": "stream",
          "name": "stdout",
          "text": [
            "A raíz é -1.0\n"
          ]
        }
      ]
    },
    {
      "cell_type": "markdown",
      "source": [
        "##**Definição de Funções**"
      ],
      "metadata": {
        "id": "Z4iM8bsDMSgG"
      }
    },
    {
      "cell_type": "markdown",
      "source": [
        "Uma função é um recurso para não precisarmos repetir o mesmo código desnecessariamente. Assim como as funções da matemática, sua tarefa é transformar um input, uma entrada, uma coleção de variáveis, em uma saída, um output.\n",
        "\n",
        "Da mesma maneira que na estrutura de condicionais, o conteúdo de uma função fica nas linhas seguintes sendo indicados pela **indentação** do código."
      ],
      "metadata": {
        "id": "gE-zbrZlfAm_"
      }
    },
    {
      "cell_type": "code",
      "source": [
        "def MinhaFuncao(n_asteriscos):\n",
        "    print('*' * n_asteriscos)\n",
        "    print('Karin')\n",
        "    print('*' * n_asteriscos)"
      ],
      "metadata": {
        "id": "QLs3ZLsZMVt-"
      },
      "execution_count": null,
      "outputs": []
    },
    {
      "cell_type": "code",
      "source": [
        "MinhaFuncao(n_asteriscos = 20)"
      ],
      "metadata": {
        "colab": {
          "base_uri": "https://localhost:8080/"
        },
        "id": "PED6gpTSMkVc",
        "outputId": "14cc64e2-fdf6-43bb-fbed-330e717939bb"
      },
      "execution_count": null,
      "outputs": [
        {
          "output_type": "stream",
          "name": "stdout",
          "text": [
            "********************\n",
            "Karin\n",
            "********************\n"
          ]
        }
      ]
    },
    {
      "cell_type": "code",
      "source": [
        "def Bhaskara(a, b, c):\n",
        "    delta = b**2 - 4*a*c\n",
        "\n",
        "    if delta > 0:\n",
        "        x1 = (-b + delta**(1/2))/(2*a)\n",
        "        x2 = (-b - delta**(1/2))/(2*a)\n",
        "        print('As raízes são {} e {}'.format(x1,x2))\n",
        "    elif delta == 0:\n",
        "        x = -b/(2*a)\n",
        "        print('A raíz é {}'.format(x))\n",
        "    else:\n",
        "        print('A equação não possui raízes reais')"
      ],
      "metadata": {
        "id": "PyZjOzIHMntl"
      },
      "execution_count": null,
      "outputs": []
    },
    {
      "cell_type": "code",
      "source": [
        "Bhaskara(a = 1, b = 2, c = -1)"
      ],
      "metadata": {
        "colab": {
          "base_uri": "https://localhost:8080/"
        },
        "id": "jRG4XKJ3N1B0",
        "outputId": "2169209e-6f31-4b51-a2f9-9800088348ee"
      },
      "execution_count": null,
      "outputs": [
        {
          "output_type": "stream",
          "name": "stdout",
          "text": [
            "As raízes são 0.41421356237309515 e -2.414213562373095\n"
          ]
        }
      ]
    },
    {
      "cell_type": "markdown",
      "source": [
        "##**Listas**"
      ],
      "metadata": {
        "id": "dKBY4XR6TW8q"
      }
    },
    {
      "cell_type": "code",
      "source": [
        "lista = ['Karin', 31, Bhaskara, [['A', 'B'], 2, 3, 4]]"
      ],
      "metadata": {
        "id": "Jo3PVNrUTbnU"
      },
      "execution_count": null,
      "outputs": []
    },
    {
      "cell_type": "code",
      "source": [
        "lista"
      ],
      "metadata": {
        "colab": {
          "base_uri": "https://localhost:8080/"
        },
        "id": "8KL1iFmYTq82",
        "outputId": "917a13f0-afe1-4435-9f44-2b8bcac0ea54"
      },
      "execution_count": null,
      "outputs": [
        {
          "output_type": "execute_result",
          "data": {
            "text/plain": [
              "['Karin', 31, <function __main__.Bhaskara(a, b, c)>]"
            ]
          },
          "metadata": {},
          "execution_count": 56
        }
      ]
    },
    {
      "cell_type": "code",
      "source": [
        "lista[2](a = 1, b = 2, c = -1)"
      ],
      "metadata": {
        "colab": {
          "base_uri": "https://localhost:8080/"
        },
        "id": "bQbpArmhTy4M",
        "outputId": "c03c7c87-0019-4334-a470-d454f76ff35b"
      },
      "execution_count": null,
      "outputs": [
        {
          "output_type": "stream",
          "name": "stdout",
          "text": [
            "As raízes são 0.41421356237309515 e -2.414213562373095\n"
          ]
        }
      ]
    },
    {
      "cell_type": "code",
      "source": [
        "lista[3][0][1]"
      ],
      "metadata": {
        "colab": {
          "base_uri": "https://localhost:8080/",
          "height": 36
        },
        "id": "1Loa69ovT8IC",
        "outputId": "8368cb45-3315-4de6-95b3-9aa09a588b0a"
      },
      "execution_count": null,
      "outputs": [
        {
          "output_type": "execute_result",
          "data": {
            "text/plain": [
              "'B'"
            ],
            "application/vnd.google.colaboratory.intrinsic+json": {
              "type": "string"
            }
          },
          "metadata": {},
          "execution_count": 66
        }
      ]
    },
    {
      "cell_type": "code",
      "source": [
        "lista2 = list('Karin')"
      ],
      "metadata": {
        "id": "XIsnMaSeUb1q"
      },
      "execution_count": null,
      "outputs": []
    },
    {
      "cell_type": "code",
      "source": [
        "lista2[-1]"
      ],
      "metadata": {
        "colab": {
          "base_uri": "https://localhost:8080/",
          "height": 36
        },
        "id": "Mkgvip5vVUif",
        "outputId": "f5ba8f18-5e61-4d1d-92d9-5ac28291bbc6"
      },
      "execution_count": null,
      "outputs": [
        {
          "output_type": "execute_result",
          "data": {
            "text/plain": [
              "'n'"
            ],
            "application/vnd.google.colaboratory.intrinsic+json": {
              "type": "string"
            }
          },
          "metadata": {},
          "execution_count": 69
        }
      ]
    },
    {
      "cell_type": "code",
      "source": [
        "lista2[:2]    #Intervalos Abertos"
      ],
      "metadata": {
        "colab": {
          "base_uri": "https://localhost:8080/"
        },
        "id": "jah45Z1NVVm4",
        "outputId": "9050eff2-cf4c-49ed-d030-875225f6eea1"
      },
      "execution_count": null,
      "outputs": [
        {
          "output_type": "execute_result",
          "data": {
            "text/plain": [
              "['K', 'a']"
            ]
          },
          "metadata": {},
          "execution_count": 70
        }
      ]
    },
    {
      "cell_type": "markdown",
      "source": [
        "##**Importação de Bibliotecas**"
      ],
      "metadata": {
        "id": "1p67yxdmVqay"
      }
    },
    {
      "cell_type": "code",
      "source": [
        "from math import pi"
      ],
      "metadata": {
        "id": "8iWMT4SaVtiX"
      },
      "execution_count": null,
      "outputs": []
    },
    {
      "cell_type": "code",
      "source": [
        "pi"
      ],
      "metadata": {
        "colab": {
          "base_uri": "https://localhost:8080/"
        },
        "id": "EKILSGBmV1No",
        "outputId": "3be18b48-304f-41d7-f612-bb7a61baa101"
      },
      "execution_count": null,
      "outputs": [
        {
          "output_type": "execute_result",
          "data": {
            "text/plain": [
              "3.141592653589793"
            ]
          },
          "metadata": {},
          "execution_count": 72
        }
      ]
    },
    {
      "cell_type": "code",
      "source": [
        "from math import pi, sqrt"
      ],
      "metadata": {
        "id": "jSKr2WWFV2dn"
      },
      "execution_count": null,
      "outputs": []
    },
    {
      "cell_type": "code",
      "source": [
        "sqrt(5)"
      ],
      "metadata": {
        "colab": {
          "base_uri": "https://localhost:8080/"
        },
        "id": "FoL6guP2WGKJ",
        "outputId": "5662d8e4-e601-4e81-b235-7cf4d0aef2de"
      },
      "execution_count": null,
      "outputs": [
        {
          "output_type": "execute_result",
          "data": {
            "text/plain": [
              "2.23606797749979"
            ]
          },
          "metadata": {},
          "execution_count": 74
        }
      ]
    },
    {
      "cell_type": "code",
      "source": [
        "import math"
      ],
      "metadata": {
        "id": "mZqn4NSgWIGQ"
      },
      "execution_count": null,
      "outputs": []
    },
    {
      "cell_type": "code",
      "source": [
        "math.ceil(2.3)"
      ],
      "metadata": {
        "colab": {
          "base_uri": "https://localhost:8080/"
        },
        "id": "kTKFILBHW1l3",
        "outputId": "5e948238-b9e2-42fd-ae70-f55edeacd3dc"
      },
      "execution_count": null,
      "outputs": [
        {
          "output_type": "execute_result",
          "data": {
            "text/plain": [
              "3"
            ]
          },
          "metadata": {},
          "execution_count": 76
        }
      ]
    },
    {
      "cell_type": "code",
      "source": [
        "import math as m"
      ],
      "metadata": {
        "id": "aj4kb9lmW4lt"
      },
      "execution_count": null,
      "outputs": []
    },
    {
      "cell_type": "code",
      "source": [
        "m.ceil(2.3)"
      ],
      "metadata": {
        "colab": {
          "base_uri": "https://localhost:8080/"
        },
        "id": "81LUuM1kXAHQ",
        "outputId": "a5eb03e2-f0df-40dd-8447-42b29ba32a0b"
      },
      "execution_count": null,
      "outputs": [
        {
          "output_type": "execute_result",
          "data": {
            "text/plain": [
              "3"
            ]
          },
          "metadata": {},
          "execution_count": 78
        }
      ]
    },
    {
      "cell_type": "markdown",
      "source": [
        "##**A Biblioteca Numpy**"
      ],
      "metadata": {
        "id": "Q7I3K6ucXJBU"
      }
    },
    {
      "cell_type": "markdown",
      "source": [
        "Numpy é a biblioteca mais popular do python para se trabalhar com arrays.\n",
        "\n",
        "Arrays são conjuntos de valores, que podem ser n-dimensionais e são feitos para se trabalhar com álgebra linear.\n",
        "\n",
        "Geralmente, um número apenas, um ponto, é um array de dimensão 0.\n",
        "\n",
        "Uma lista de valores é um array de dimensão 1.\n",
        "\n",
        "Uma matriz de valores é uma array de dimensão 2.\n",
        "\n",
        "Um tensor de valores é um array de dimensão 3.\n"
      ],
      "metadata": {
        "id": "6v5Cfsamfmvt"
      }
    },
    {
      "cell_type": "code",
      "source": [
        "import numpy as np"
      ],
      "metadata": {
        "id": "LVOjjMFrXCcW"
      },
      "execution_count": null,
      "outputs": []
    },
    {
      "cell_type": "code",
      "source": [
        "np.array([1, 2, 3, 4])"
      ],
      "metadata": {
        "colab": {
          "base_uri": "https://localhost:8080/"
        },
        "id": "fG9cOqcrXEWw",
        "outputId": "fc4489fc-4cb6-47ad-d2b2-98ca7a106978"
      },
      "execution_count": null,
      "outputs": [
        {
          "output_type": "execute_result",
          "data": {
            "text/plain": [
              "array([1, 2, 3, 4])"
            ]
          },
          "metadata": {},
          "execution_count": 80
        }
      ]
    },
    {
      "cell_type": "code",
      "source": [
        "3 * np.array([1, 2, 3, 4])"
      ],
      "metadata": {
        "colab": {
          "base_uri": "https://localhost:8080/"
        },
        "id": "C3fOIXcHXSfh",
        "outputId": "8300fa32-1496-4e0e-85f9-feba058f1092"
      },
      "execution_count": null,
      "outputs": [
        {
          "output_type": "execute_result",
          "data": {
            "text/plain": [
              "array([ 3,  6,  9, 12])"
            ]
          },
          "metadata": {},
          "execution_count": 81
        }
      ]
    },
    {
      "cell_type": "code",
      "source": [
        "3 * [1, 2, 3, 4]"
      ],
      "metadata": {
        "colab": {
          "base_uri": "https://localhost:8080/"
        },
        "id": "9-UZuAFvXWHY",
        "outputId": "bb2f3c24-e6f9-449d-f6e6-e13f41eb4014"
      },
      "execution_count": null,
      "outputs": [
        {
          "output_type": "execute_result",
          "data": {
            "text/plain": [
              "[1, 2, 3, 4, 1, 2, 3, 4, 1, 2, 3, 4]"
            ]
          },
          "metadata": {},
          "execution_count": 82
        }
      ]
    },
    {
      "cell_type": "code",
      "source": [
        "[1, 2, 3, 4] + [5, 6, 7]"
      ],
      "metadata": {
        "colab": {
          "base_uri": "https://localhost:8080/"
        },
        "id": "znM3_TEvXaEv",
        "outputId": "f68b7fcc-0621-43a9-9d05-08bd3d6fc25e"
      },
      "execution_count": null,
      "outputs": [
        {
          "output_type": "execute_result",
          "data": {
            "text/plain": [
              "[1, 2, 3, 4, 5, 6, 7]"
            ]
          },
          "metadata": {},
          "execution_count": 83
        }
      ]
    },
    {
      "cell_type": "code",
      "source": [
        "2.2 + np.array ([1, 2, 3, 4])"
      ],
      "metadata": {
        "colab": {
          "base_uri": "https://localhost:8080/"
        },
        "id": "fci7IioMXfNl",
        "outputId": "50d656ac-a633-476f-e048-c4a740336b08"
      },
      "execution_count": null,
      "outputs": [
        {
          "output_type": "execute_result",
          "data": {
            "text/plain": [
              "array([3.2, 4.2, 5.2, 6.2])"
            ]
          },
          "metadata": {},
          "execution_count": 84
        }
      ]
    },
    {
      "cell_type": "code",
      "source": [
        "np.array ([[1, 2, 3, 4], [3, 2, 4, 46]])"
      ],
      "metadata": {
        "colab": {
          "base_uri": "https://localhost:8080/"
        },
        "id": "QrVe_LYEXoLD",
        "outputId": "35b679fe-21e0-4a86-a705-74aa848475ce"
      },
      "execution_count": null,
      "outputs": [
        {
          "output_type": "execute_result",
          "data": {
            "text/plain": [
              "array([[ 1,  2,  3,  4],\n",
              "       [ 3,  2,  4, 46]])"
            ]
          },
          "metadata": {},
          "execution_count": 86
        }
      ]
    },
    {
      "cell_type": "code",
      "source": [
        "np.arange(10,31)"
      ],
      "metadata": {
        "colab": {
          "base_uri": "https://localhost:8080/"
        },
        "id": "crbaX9sRYDQw",
        "outputId": "e24d77ac-7a6e-458b-848f-cce8d6367644"
      },
      "execution_count": null,
      "outputs": [
        {
          "output_type": "execute_result",
          "data": {
            "text/plain": [
              "array([10, 11, 12, 13, 14, 15, 16, 17, 18, 19, 20, 21, 22, 23, 24, 25, 26,\n",
              "       27, 28, 29, 30])"
            ]
          },
          "metadata": {},
          "execution_count": 88
        }
      ]
    },
    {
      "cell_type": "code",
      "source": [
        "np.arange(10,31,2)"
      ],
      "metadata": {
        "colab": {
          "base_uri": "https://localhost:8080/"
        },
        "id": "-sOJirCsYRdF",
        "outputId": "3242cdd8-bdc2-4edd-8216-d3b093fd452e"
      },
      "execution_count": null,
      "outputs": [
        {
          "output_type": "execute_result",
          "data": {
            "text/plain": [
              "array([10, 12, 14, 16, 18, 20, 22, 24, 26, 28, 30])"
            ]
          },
          "metadata": {},
          "execution_count": 89
        }
      ]
    },
    {
      "cell_type": "code",
      "source": [
        "np.random.choice([1, 2, 3, 4, 5], size = 3)"
      ],
      "metadata": {
        "colab": {
          "base_uri": "https://localhost:8080/"
        },
        "id": "1GC7OHSvYXvY",
        "outputId": "86007c28-f378-46c9-a748-ce5851703b7d"
      },
      "execution_count": null,
      "outputs": [
        {
          "output_type": "execute_result",
          "data": {
            "text/plain": [
              "array([2, 3, 1])"
            ]
          },
          "metadata": {},
          "execution_count": 92
        }
      ]
    },
    {
      "cell_type": "code",
      "source": [
        "x = np.arange(1, 213)\n",
        "np.random.choice(x, size = 4)"
      ],
      "metadata": {
        "colab": {
          "base_uri": "https://localhost:8080/"
        },
        "id": "eAhNczMJYh0e",
        "outputId": "18cb3062-b0e1-4f3a-b77c-b6ecf1276825"
      },
      "execution_count": null,
      "outputs": [
        {
          "output_type": "execute_result",
          "data": {
            "text/plain": [
              "array([ 72, 114, 122, 125])"
            ]
          },
          "metadata": {},
          "execution_count": 93
        }
      ]
    },
    {
      "cell_type": "code",
      "source": [
        "np.all([True, True, True, True, True])"
      ],
      "metadata": {
        "colab": {
          "base_uri": "https://localhost:8080/"
        },
        "id": "mozOjpq-Y7Br",
        "outputId": "239ba7ea-89e3-4974-ebd3-8ec810dbcb0c"
      },
      "execution_count": null,
      "outputs": [
        {
          "output_type": "execute_result",
          "data": {
            "text/plain": [
              "True"
            ]
          },
          "metadata": {},
          "execution_count": 94
        }
      ]
    },
    {
      "cell_type": "code",
      "source": [
        "np.all([True, False, True, True, True])"
      ],
      "metadata": {
        "colab": {
          "base_uri": "https://localhost:8080/"
        },
        "id": "hNrIcPhgZM1Z",
        "outputId": "ca126367-081d-45c6-91af-d27f79fdc500"
      },
      "execution_count": null,
      "outputs": [
        {
          "output_type": "execute_result",
          "data": {
            "text/plain": [
              "False"
            ]
          },
          "metadata": {},
          "execution_count": 95
        }
      ]
    },
    {
      "cell_type": "code",
      "source": [
        "np.any([True, False, True, True, True])"
      ],
      "metadata": {
        "colab": {
          "base_uri": "https://localhost:8080/"
        },
        "id": "Xeu2a9vEZQ_X",
        "outputId": "1960b768-8ba3-4459-e7d9-761f16344080"
      },
      "execution_count": null,
      "outputs": [
        {
          "output_type": "execute_result",
          "data": {
            "text/plain": [
              "True"
            ]
          },
          "metadata": {},
          "execution_count": 96
        }
      ]
    },
    {
      "cell_type": "code",
      "source": [
        "np.any([True, False, False, False, False])"
      ],
      "metadata": {
        "colab": {
          "base_uri": "https://localhost:8080/"
        },
        "id": "5BpDZiHTZWRr",
        "outputId": "3fb6b79a-fcfd-4e95-ab30-019c212f688c"
      },
      "execution_count": null,
      "outputs": [
        {
          "output_type": "execute_result",
          "data": {
            "text/plain": [
              "True"
            ]
          },
          "metadata": {},
          "execution_count": 97
        }
      ]
    },
    {
      "cell_type": "markdown",
      "source": [
        "##**Funções Importantes**"
      ],
      "metadata": {
        "id": "8S8PzH-8hmLb"
      }
    },
    {
      "cell_type": "markdown",
      "source": [
        "O comando **input** serve para se comunicar com o usuário enquanto se executa um programa.\n"
      ],
      "metadata": {
        "id": "-RVQ52IDhzd_"
      }
    },
    {
      "cell_type": "code",
      "source": [
        "x = input('Digite o seu nome: ')"
      ],
      "metadata": {
        "colab": {
          "base_uri": "https://localhost:8080/"
        },
        "id": "IyoC6Ud3hyYP",
        "outputId": "7dff91f2-78a0-43fa-fc5e-814bd2c10335"
      },
      "execution_count": null,
      "outputs": [
        {
          "name": "stdout",
          "output_type": "stream",
          "text": [
            "Digite o seu nome:  Karin\n"
          ]
        }
      ]
    },
    {
      "cell_type": "code",
      "source": [
        "print(x)"
      ],
      "metadata": {
        "colab": {
          "base_uri": "https://localhost:8080/"
        },
        "id": "gsUTaoWfh_nO",
        "outputId": "8e90a2fd-c89c-4a97-ad55-bc18a697b6ba"
      },
      "execution_count": null,
      "outputs": [
        {
          "output_type": "stream",
          "name": "stdout",
          "text": [
            " Karin\n"
          ]
        }
      ]
    },
    {
      "cell_type": "code",
      "source": [
        "y = input('Digite a sua idade: ')\n",
        "print('\\nA idade declarada foi {}'.format(y))"
      ],
      "metadata": {
        "colab": {
          "base_uri": "https://localhost:8080/"
        },
        "id": "G1NCAKlbiEg5",
        "outputId": "c7b54472-9b58-4023-cfdd-0466f0c2e3d9"
      },
      "execution_count": null,
      "outputs": [
        {
          "output_type": "stream",
          "name": "stdout",
          "text": [
            "Digite a sua idade:  31\n",
            "\n",
            "A idade declarada foi  31\n"
          ]
        }
      ]
    },
    {
      "cell_type": "markdown",
      "source": [
        "Os inputs são sempre no format string. Se quisermos usá-lo numericamente, temos que converter as entradas adequadamanente. Em geral usamos a função **int** para inteiros ou **float** para números reais. Você pode usar a função float para números que são inteiros também."
      ],
      "metadata": {
        "id": "uF61nYSYiLHy"
      }
    },
    {
      "cell_type": "code",
      "source": [
        "y = int(input('Digite a sua idade '))\n",
        "\n",
        "print('\\nSe você já fez aniversário esse ano, seu ano de nascimento foi {}.'.format(2023 - y))"
      ],
      "metadata": {
        "colab": {
          "base_uri": "https://localhost:8080/"
        },
        "id": "cbi9kJSciSsf",
        "outputId": "a94e690a-f6e9-4884-88c7-3914e9b04aff"
      },
      "execution_count": null,
      "outputs": [
        {
          "output_type": "stream",
          "name": "stdout",
          "text": [
            "Digite a sua idade  32\n",
            "\n",
            "Se você já fez aniversário esse ano, seu ano de nascimento foi 1991.\n"
          ]
        }
      ]
    },
    {
      "cell_type": "markdown",
      "source": [
        "A função **range** cria um objeto capaz de gerar listas de valores entre dois números.\n",
        "\n",
        "Ela não gera a lista em si, mas um gerador de lista pra quando ela for utilizada.\n",
        "\n",
        "**Essa função trabalha com intervalos semi-abertos do tipo [ , )**."
      ],
      "metadata": {
        "id": "DUfws9aliuro"
      }
    },
    {
      "cell_type": "code",
      "source": [
        "range(4)"
      ],
      "metadata": {
        "colab": {
          "base_uri": "https://localhost:8080/"
        },
        "id": "olIp9gxkiwSD",
        "outputId": "62ec1a1a-6783-45cf-ba3f-bcf9ca04b3a8"
      },
      "execution_count": null,
      "outputs": [
        {
          "output_type": "execute_result",
          "data": {
            "text/plain": [
              "range(0, 4)"
            ]
          },
          "metadata": {},
          "execution_count": 16
        }
      ]
    },
    {
      "cell_type": "markdown",
      "source": [
        "Para listar os valores da função range, utilize o comando **list**."
      ],
      "metadata": {
        "id": "0nM-Vb0Oi0Op"
      }
    },
    {
      "cell_type": "code",
      "source": [
        "list(range(4))"
      ],
      "metadata": {
        "colab": {
          "base_uri": "https://localhost:8080/"
        },
        "id": "hoHU8p7xi4AC",
        "outputId": "052b7884-71ad-429f-b8d7-31cf81553f50"
      },
      "execution_count": null,
      "outputs": [
        {
          "output_type": "execute_result",
          "data": {
            "text/plain": [
              "[0, 1, 2, 3]"
            ]
          },
          "metadata": {},
          "execution_count": 17
        }
      ]
    },
    {
      "cell_type": "markdown",
      "source": [
        "Use-a com dois parâmetros para definir o começo e o fim da lista. Note que o primeiro valor é incluido, mas o último não, pois o intervalo dela é semi-aberto."
      ],
      "metadata": {
        "id": "pwdx_Zdzi7vl"
      }
    },
    {
      "cell_type": "code",
      "source": [
        "list(range(3, 10))\n"
      ],
      "metadata": {
        "colab": {
          "base_uri": "https://localhost:8080/"
        },
        "id": "yrixfWugi-cb",
        "outputId": "0ca8e85b-f5da-40af-aff9-8d9c6463c4c5"
      },
      "execution_count": null,
      "outputs": [
        {
          "output_type": "execute_result",
          "data": {
            "text/plain": [
              "[3, 4, 5, 6, 7, 8, 9]"
            ]
          },
          "metadata": {},
          "execution_count": 18
        }
      ]
    },
    {
      "cell_type": "markdown",
      "source": [
        "Pode-se usar ainda um terceiro parâmetro, que é o passo da lista. Ele deve ser inteiro e representa o salto de um número para o outro."
      ],
      "metadata": {
        "id": "GwbtKEppjKPr"
      }
    },
    {
      "cell_type": "code",
      "source": [
        "list(range(2, 21, 2))"
      ],
      "metadata": {
        "colab": {
          "base_uri": "https://localhost:8080/"
        },
        "id": "Xouo16RbjL9R",
        "outputId": "d7a5c5e8-52f1-4e87-8bf7-e37ca36d8538"
      },
      "execution_count": null,
      "outputs": [
        {
          "output_type": "execute_result",
          "data": {
            "text/plain": [
              "[2, 4, 6, 8, 10, 12, 14, 16, 18, 20]"
            ]
          },
          "metadata": {},
          "execution_count": 19
        }
      ]
    },
    {
      "cell_type": "code",
      "source": [
        "list(range(10, 101, 10))"
      ],
      "metadata": {
        "colab": {
          "base_uri": "https://localhost:8080/"
        },
        "id": "UZH8jXT3jOYo",
        "outputId": "4c047400-72c8-4be5-e241-078b6cd97e68"
      },
      "execution_count": null,
      "outputs": [
        {
          "output_type": "execute_result",
          "data": {
            "text/plain": [
              "[10, 20, 30, 40, 50, 60, 70, 80, 90, 100]"
            ]
          },
          "metadata": {},
          "execution_count": 20
        }
      ]
    },
    {
      "cell_type": "markdown",
      "source": [
        "A função **list** também pode ser utilizada para quebrar uma string em caracteres dentro de uma lista."
      ],
      "metadata": {
        "id": "wivERAc7jQ_4"
      }
    },
    {
      "cell_type": "code",
      "source": [
        "list('Python')"
      ],
      "metadata": {
        "colab": {
          "base_uri": "https://localhost:8080/"
        },
        "id": "lUD7qioQjTcL",
        "outputId": "4700f729-29a8-40ef-e4ae-dcc57f679b0b"
      },
      "execution_count": null,
      "outputs": [
        {
          "output_type": "execute_result",
          "data": {
            "text/plain": [
              "['P', 'y', 't', 'h', 'o', 'n']"
            ]
          },
          "metadata": {},
          "execution_count": 21
        }
      ]
    },
    {
      "cell_type": "markdown",
      "source": [
        "##**Iteradores FOR e WHILE**"
      ],
      "metadata": {
        "id": "2wKf6fkQZk_v"
      }
    },
    {
      "cell_type": "markdown",
      "source": [
        "Utilizamos a estrutura de repetição **FOR** sempre que desejamos repetir um certo pedaço de código, com alterações ou não, por um número pre-determinado de vezes."
      ],
      "metadata": {
        "id": "n0VRAsTGgdDs"
      }
    },
    {
      "cell_type": "code",
      "source": [
        "for i in [1,2,3,4,5]:\n",
        "    print(i**2)"
      ],
      "metadata": {
        "colab": {
          "base_uri": "https://localhost:8080/"
        },
        "id": "lfhtKLy-ZnxO",
        "outputId": "0d21bd65-fe10-4070-e14f-a0b53c162d1f"
      },
      "execution_count": null,
      "outputs": [
        {
          "output_type": "stream",
          "name": "stdout",
          "text": [
            "1\n",
            "4\n",
            "9\n",
            "16\n",
            "25\n"
          ]
        }
      ]
    },
    {
      "cell_type": "code",
      "source": [
        "for i in [1,2,3,4,5]:\n",
        "    print(np.random.choice(x, size = 4))"
      ],
      "metadata": {
        "colab": {
          "base_uri": "https://localhost:8080/"
        },
        "id": "57-P90rwZxFu",
        "outputId": "d7fbabbd-7e13-4c52-889b-e2b24979b897"
      },
      "execution_count": null,
      "outputs": [
        {
          "output_type": "stream",
          "name": "stdout",
          "text": [
            "[ 16 174  31 181]\n",
            "[ 67  31  21 156]\n",
            "[ 75  30  10 167]\n",
            "[153 202 192 166]\n",
            "[181  59 193  73]\n"
          ]
        }
      ]
    },
    {
      "cell_type": "code",
      "source": [
        "for i in np.arange(0,10):\n",
        "    print(np.random.choice(x, size = 4))"
      ],
      "metadata": {
        "colab": {
          "base_uri": "https://localhost:8080/"
        },
        "id": "-JQJeu0OaKmX",
        "outputId": "e1bd846d-4a62-47cd-cb91-71a5f0e26b88"
      },
      "execution_count": null,
      "outputs": [
        {
          "output_type": "stream",
          "name": "stdout",
          "text": [
            "[176 174 122  94]\n",
            "[140 201 151  35]\n",
            "[114  95 118 126]\n",
            "[182  32 119  17]\n",
            "[197 162  83  24]\n",
            "[ 42 135  31 172]\n",
            "[165 190  14 178]\n",
            "[145 197  32 184]\n",
            "[  6 120 146 102]\n",
            "[101  13 195 204]\n"
          ]
        }
      ]
    },
    {
      "cell_type": "markdown",
      "source": [
        "O iterador **WHILE** usamos quando queremos repetir código sem saber de antemão quando este deve ser interrompido. Ele será finalizado quando alguma condição for satisfeita.\n",
        "\n",
        "Deve-se tomar cuidado em não escrever um **WHILE** infinito. Você terá que cancelar a execução do código para pará-lo."
      ],
      "metadata": {
        "id": "TPaifMUQgnQW"
      }
    },
    {
      "cell_type": "code",
      "source": [
        "contador = 0\n",
        "while True:\n",
        "    contador = contador + 1\n",
        "    print(contador*2)\n",
        "    if contador == 10:\n",
        "        break"
      ],
      "metadata": {
        "colab": {
          "base_uri": "https://localhost:8080/"
        },
        "id": "DOa-EEpeaT46",
        "outputId": "27e98436-5a15-4d43-b80a-5a33ceaccc06"
      },
      "execution_count": null,
      "outputs": [
        {
          "output_type": "stream",
          "name": "stdout",
          "text": [
            "2\n",
            "4\n",
            "6\n",
            "8\n",
            "10\n",
            "12\n",
            "14\n",
            "16\n",
            "18\n",
            "20\n"
          ]
        }
      ]
    },
    {
      "cell_type": "code",
      "source": [
        "contador = 0\n",
        "while contador < 10:\n",
        "    contador = contador + 1\n",
        "    print(contador*2)"
      ],
      "metadata": {
        "colab": {
          "base_uri": "https://localhost:8080/"
        },
        "id": "Fi-mFOkVhWLp",
        "outputId": "f658fcce-54b0-4732-aedb-3aeecfd6450e"
      },
      "execution_count": null,
      "outputs": [
        {
          "output_type": "stream",
          "name": "stdout",
          "text": [
            "2\n",
            "4\n",
            "6\n",
            "8\n",
            "10\n",
            "12\n",
            "14\n",
            "16\n",
            "18\n",
            "20\n"
          ]
        }
      ]
    },
    {
      "cell_type": "markdown",
      "source": [
        "Utilização do comando **break** para interromper o loop."
      ],
      "metadata": {
        "id": "0HuJtVUhg53M"
      }
    },
    {
      "cell_type": "markdown",
      "source": [
        "Exemplo de um **while** infinito"
      ],
      "metadata": {
        "id": "KRasSG15hDwb"
      }
    },
    {
      "cell_type": "code",
      "source": [
        "while True:\n",
        "    print('Python é legal demais!')"
      ],
      "metadata": {
        "id": "isn2OZQQhGUZ"
      },
      "execution_count": null,
      "outputs": []
    },
    {
      "cell_type": "markdown",
      "source": [
        "O **while** também aceita o comando **else** no após o seu fim. Algo para executar após o break acontecer."
      ],
      "metadata": {
        "id": "50mrEJEvhRlb"
      }
    },
    {
      "cell_type": "code",
      "source": [
        "i = 1\n",
        "while i <= 10:\n",
        "    print(i * '*')\n",
        "    i += 1\n",
        "else:\n",
        "    print('*')"
      ],
      "metadata": {
        "colab": {
          "base_uri": "https://localhost:8080/"
        },
        "id": "2PlX2GzQhSWt",
        "outputId": "e9c80fc7-1ef1-4568-f17e-fe4f1307ec66"
      },
      "execution_count": null,
      "outputs": [
        {
          "output_type": "stream",
          "name": "stdout",
          "text": [
            "*\n",
            "**\n",
            "***\n",
            "****\n",
            "*****\n",
            "******\n",
            "*******\n",
            "********\n",
            "*********\n",
            "**********\n",
            "*\n"
          ]
        }
      ]
    }
  ]
}
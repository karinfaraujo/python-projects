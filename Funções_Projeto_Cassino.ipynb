{
  "nbformat": 4,
  "nbformat_minor": 0,
  "metadata": {
    "colab": {
      "provenance": [],
      "authorship_tag": "ABX9TyPDyei/800L7IXMehIkYoZL",
      "include_colab_link": true
    },
    "kernelspec": {
      "name": "python3",
      "display_name": "Python 3"
    },
    "language_info": {
      "name": "python"
    }
  },
  "cells": [
    {
      "cell_type": "markdown",
      "metadata": {
        "id": "view-in-github",
        "colab_type": "text"
      },
      "source": [
        "<a href=\"https://colab.research.google.com/github/karinfaraujo/python-projects/blob/main/Fun%C3%A7%C3%B5es_Projeto_Cassino.ipynb\" target=\"_parent\"><img src=\"https://colab.research.google.com/assets/colab-badge.svg\" alt=\"Open In Colab\"/></a>"
      ]
    },
    {
      "cell_type": "markdown",
      "source": [
        "#**Funções 💻 e Projeto Cassino 💵**"
      ],
      "metadata": {
        "id": "hgUWxm9jJHMb"
      }
    },
    {
      "cell_type": "markdown",
      "source": [
        "### Função **INPUT** ###"
      ],
      "metadata": {
        "id": "zLz127RZH9wq"
      }
    },
    {
      "cell_type": "markdown",
      "source": [
        "A função recebe como parâmetro uma string que será mostrada como auxílio ao usuário, geralmente o informando que tipo de dado o programa está aguardando receber."
      ],
      "metadata": {
        "id": "LQgJanJFWJdk"
      }
    },
    {
      "cell_type": "code",
      "source": [
        "nome = input('Qual é o seu nome?')"
      ],
      "metadata": {
        "colab": {
          "base_uri": "https://localhost:8080/"
        },
        "id": "7vzMif--wdlg",
        "outputId": "10d825a3-7ccf-48a9-c790-0aec917eae8a"
      },
      "execution_count": null,
      "outputs": [
        {
          "name": "stdout",
          "output_type": "stream",
          "text": [
            "Qual é o seu nome? Karin\n"
          ]
        }
      ]
    },
    {
      "cell_type": "code",
      "source": [
        "print('O nome apresentado foi {}'.format(nome))"
      ],
      "metadata": {
        "colab": {
          "base_uri": "https://localhost:8080/"
        },
        "id": "2xp7Zp-6woID",
        "outputId": "a205b3f1-9fee-4e76-bd75-1e48e465c24b"
      },
      "execution_count": null,
      "outputs": [
        {
          "output_type": "stream",
          "name": "stdout",
          "text": [
            "O nome apresentado foi  Karin\n"
          ]
        }
      ]
    },
    {
      "cell_type": "code",
      "source": [
        "idade = input('Quantos anos você tem?')"
      ],
      "metadata": {
        "colab": {
          "base_uri": "https://localhost:8080/"
        },
        "id": "SkKK6O_3w02i",
        "outputId": "044916df-410a-448b-d9c8-4ee7f153ef01"
      },
      "execution_count": null,
      "outputs": [
        {
          "name": "stdout",
          "output_type": "stream",
          "text": [
            "Quantos anos você tem? 31\n"
          ]
        }
      ]
    },
    {
      "cell_type": "code",
      "source": [
        "type(idade)"
      ],
      "metadata": {
        "colab": {
          "base_uri": "https://localhost:8080/"
        },
        "id": "ZNG7K13lw_3i",
        "outputId": "18dd77aa-c2b5-492f-8fd8-ca1858e05cbd"
      },
      "execution_count": null,
      "outputs": [
        {
          "output_type": "execute_result",
          "data": {
            "text/plain": [
              "str"
            ]
          },
          "metadata": {},
          "execution_count": 7
        }
      ]
    },
    {
      "cell_type": "code",
      "source": [
        "int(idade) #Argumento em número inteiro."
      ],
      "metadata": {
        "colab": {
          "base_uri": "https://localhost:8080/"
        },
        "id": "_Xbp4zUIxaG6",
        "outputId": "6ccb2fb4-885e-4514-e0df-119da7846659"
      },
      "execution_count": null,
      "outputs": [
        {
          "output_type": "execute_result",
          "data": {
            "text/plain": [
              "31"
            ]
          },
          "metadata": {},
          "execution_count": 8
        }
      ]
    },
    {
      "cell_type": "code",
      "source": [
        "int(idade)*5 #Argumento em número inteiro."
      ],
      "metadata": {
        "colab": {
          "base_uri": "https://localhost:8080/"
        },
        "id": "E2ecwVfaxLFr",
        "outputId": "53614f96-c130-461c-f0a3-2ddb33d945fb"
      },
      "execution_count": null,
      "outputs": [
        {
          "output_type": "execute_result",
          "data": {
            "text/plain": [
              "155"
            ]
          },
          "metadata": {},
          "execution_count": 10
        }
      ]
    },
    {
      "cell_type": "markdown",
      "source": [
        "### Biblioteca **RANDOM**, função **RANDINT** e **CHOICE** ###"
      ],
      "metadata": {
        "id": "2C-eZYhoILAJ"
      }
    },
    {
      "cell_type": "markdown",
      "source": [
        "A biblioteca **random** é utlizada para gerar números pseudo-aleatórios. Podendo também selecionar os elementos de uma lista de forma aleatória ou exibir o seu resultado embaralhado.\n",
        "\n",
        "A função **randint** gera números inteiros aleatórios entre um intervalo específico.\n",
        "\n",
        "A função **choice** retorna um item aleatório de uma lista, tupla ou string.\n",
        "\n"
      ],
      "metadata": {
        "id": "aGVJX8GUXMgK"
      }
    },
    {
      "cell_type": "code",
      "source": [
        "import random"
      ],
      "metadata": {
        "id": "aPPALJnNxh_2"
      },
      "execution_count": null,
      "outputs": []
    },
    {
      "cell_type": "code",
      "source": [
        "random.randint(10, 15)"
      ],
      "metadata": {
        "colab": {
          "base_uri": "https://localhost:8080/"
        },
        "id": "tM0SpSb3xvfz",
        "outputId": "cd53e6e0-1731-4571-f64e-579d841081f1"
      },
      "execution_count": null,
      "outputs": [
        {
          "output_type": "execute_result",
          "data": {
            "text/plain": [
              "11"
            ]
          },
          "metadata": {},
          "execution_count": 24
        }
      ]
    },
    {
      "cell_type": "code",
      "source": [
        "lista = [1, 4, 6, 10]\n",
        "x = random.choice(lista)"
      ],
      "metadata": {
        "id": "-8mBSAH0x1A_"
      },
      "execution_count": null,
      "outputs": []
    },
    {
      "cell_type": "markdown",
      "source": [
        "###Condicionais **IF-ELSE** ###"
      ],
      "metadata": {
        "id": "mX5PORnzIq5g"
      }
    },
    {
      "cell_type": "markdown",
      "source": [
        "O **if** é uma estrutura de condição que permite avaliar uma expressão e, de acordo com seu resultado, executar uma determinada ação.\n",
        "No entanto, se nenhum comportamento específico foi definido para o caso de a condição não ser satisfeita, é utlizado o **else**.\n",
        "\n",
        "Servem para avaliar se uma determinada condição é verdadeira ou falsa."
      ],
      "metadata": {
        "id": "xQXbb7drZEfe"
      }
    },
    {
      "cell_type": "code",
      "source": [
        "lista = [1, 4, 6, 10]\n",
        "x = random.choice(lista)\n",
        "\n",
        "if x == 10:\n",
        "    print('Oba, saiu o 10! :)')\n",
        "else:\n",
        "    print('Eita, não saiu o 10! :(')"
      ],
      "metadata": {
        "colab": {
          "base_uri": "https://localhost:8080/"
        },
        "id": "tTr84CnUyJtc",
        "outputId": "a49f3146-d88b-4b90-f37c-dafe53a01266"
      },
      "execution_count": null,
      "outputs": [
        {
          "output_type": "stream",
          "name": "stdout",
          "text": [
            "Oba, saiu o 10! :)\n"
          ]
        }
      ]
    },
    {
      "cell_type": "markdown",
      "source": [
        "### Iterador **WHILE** ###"
      ],
      "metadata": {
        "id": "3CEiiKNRI0se"
      }
    },
    {
      "cell_type": "markdown",
      "source": [
        " Executa uma instrução ou um bloco de instruções enquanto uma expressão booleana especificada é avaliada como true."
      ],
      "metadata": {
        "id": "a_QJeA7ialA0"
      }
    },
    {
      "cell_type": "code",
      "source": [
        "lista = [1, 4, 6, 10]\n",
        "\n",
        "while True:\n",
        "    x = random.choice(lista)\n",
        "    print('O número sorteado foi {}'.format(x))\n",
        "    if x == 10:\n",
        "        break"
      ],
      "metadata": {
        "colab": {
          "base_uri": "https://localhost:8080/"
        },
        "id": "imJ2XhR5zI_E",
        "outputId": "68ad3b60-3310-412a-c682-035ef7928035"
      },
      "execution_count": null,
      "outputs": [
        {
          "output_type": "stream",
          "name": "stdout",
          "text": [
            "O número sorteado foi 10\n"
          ]
        }
      ]
    },
    {
      "cell_type": "code",
      "source": [
        "lista = [1, 4, 6, 10]\n",
        "\n",
        "while True:\n",
        "    numero = int(input('Digite o número 10:'))\n",
        "    if numero == 10:\n",
        "        print('Muito obrigado')\n",
        "        break\n",
        "    else:\n",
        "        print('Escreveu errado')"
      ],
      "metadata": {
        "colab": {
          "base_uri": "https://localhost:8080/"
        },
        "id": "l-9FrxRQziAN",
        "outputId": "74993549-65fa-4840-a7e3-d9d5b7c6dc0a"
      },
      "execution_count": null,
      "outputs": [
        {
          "output_type": "stream",
          "name": "stdout",
          "text": [
            "Digite o número 10:10\n",
            "Muito obrigado\n"
          ]
        }
      ]
    },
    {
      "cell_type": "markdown",
      "source": [
        "## **Programa A: Roletinha** 💵\n",
        "\n"
      ],
      "metadata": {
        "id": "f6-ilPod13At"
      }
    },
    {
      "cell_type": "markdown",
      "source": [
        "O jogador aposta em um número de 1-6. Então arremessa, uma bola que pode cair em qualquer número de 0-6. Caso a bola acerte o valor escolhido, então o jogador ganha 6x o valor apostado.\n",
        "\n",
        "**Algoritmo**\n",
        "\n",
        "1. Perguntar a quantia que o jogador quer apostar.\n",
        "2. Perguntar qual o núnero em que o jogador deseja colocar a aposta.\n",
        "3. Arremessar a bolinha, isto é, gerar um número aleatório entre 0-6.\n",
        "4. Imprima o resultado sorteado na tela.\n",
        "5. Se o jogador acertou então imprima  na tela o resultado e o seu prêmio.\n",
        "6. Se o jogador errou, imprima na tela o resultado.\n",
        "\n",
        "**Objetivo Extra**\n",
        "\n",
        "- Transforme o programa em uma função chamada 'Roletinha', que não requer nenhum argumento de entrada, abra o jogo, imprima os resultados e retorne o valor ganho no jogo.\n",
        "\n",
        "- Implemente algo que impeça o jogador de colocar entradas fora do esperado nos inputs!\n",
        "\n",
        "- Implemente algo para colocar um tempo entre a entradas dos inputs e o sorteio do jogo, com o objetivo de 'criar um mistério!'"
      ],
      "metadata": {
        "id": "5Rq_IOpdSLJc"
      }
    },
    {
      "cell_type": "code",
      "source": [
        "# IMPLEMENTAÇÃO\n",
        "\n",
        "aposta = int(input('Quer apostar quanto?'))\n",
        "numero = int(input('De 1-6, escolha qual número?'))\n",
        "bolinha  =random.randint(0,6)\n",
        "print('O valor roletado foi {}'.format(bolinha))\n",
        "if numero == bolinha:\n",
        "    print('Você ganhou! Seu prêmio é {} reais'. format(6*aposta))\n",
        "else:\n",
        "    print('Você não ganhou! Boa sorte na próxima vez')"
      ],
      "metadata": {
        "colab": {
          "base_uri": "https://localhost:8080/"
        },
        "id": "xYGZr6M13BDo",
        "outputId": "d4dbffdf-f6ef-4222-e05e-7cc9f7d06870"
      },
      "execution_count": null,
      "outputs": [
        {
          "output_type": "stream",
          "name": "stdout",
          "text": [
            "Quer apostar quanto? 50\n",
            "De 1-6, escolha qual número?4\n",
            "O valor roletado foi 2\n",
            "Você não ganhou! Boa sorte na próxima vez\n"
          ]
        }
      ]
    },
    {
      "cell_type": "code",
      "source": [
        "# Objetivo Extra\n",
        "\n",
        "def Roletinha():\n",
        "    aposta = int(input('\\nQuanto quer apostar?'))\n",
        "    numero = int(input('\\nQual número de 1-6 você deseja apostar'))\n",
        "    roleta = random.randint(0, 6)\n",
        "    print('O resultado da roleta é: {}'.format(roleta))\n",
        "\n",
        "    if numero == roleta:\n",
        "          ganhos = 6*aposta\n",
        "          print('\\n*** Jogador Ganhou! ***')\n",
        "          print('Tome aqui seus {} reais.'.format(ganhos))\n",
        "    else:\n",
        "          ganhos = 0\n",
        "          print('\\nInfelizmente, você perdeu!')\n",
        "          print('Mais sorte na próxima!')\n",
        "\n",
        "    return ganhos"
      ],
      "metadata": {
        "id": "mZA5ZndMKnM1"
      },
      "execution_count": null,
      "outputs": []
    },
    {
      "cell_type": "code",
      "source": [
        "Roletinha()"
      ],
      "metadata": {
        "colab": {
          "base_uri": "https://localhost:8080/"
        },
        "id": "itfM_kt65ymY",
        "outputId": "abf1a10e-002e-4659-c6e7-ace710189f56"
      },
      "execution_count": null,
      "outputs": [
        {
          "output_type": "stream",
          "name": "stdout",
          "text": [
            "\n",
            "Quanto quer apostar? 100\n",
            "\n",
            "Qual número de 1-6 você deseja apostar 2\n",
            "O resultado da roleta é: 0\n",
            "\n",
            "Infelizmente, você perdeu!\n",
            "Mais sorte na próxima!\n"
          ]
        },
        {
          "output_type": "execute_result",
          "data": {
            "text/plain": [
              "0"
            ]
          },
          "metadata": {},
          "execution_count": 35
        }
      ]
    },
    {
      "cell_type": "markdown",
      "source": [
        "##**Programa B: Simulação do Jogo 21** ♦♠♥️♣ 💵\n"
      ],
      "metadata": {
        "id": "pRGI2SfB6dZx"
      }
    },
    {
      "cell_type": "markdown",
      "source": [
        "O jogador recebe uma carta do baralho. O As vale 1, as demais cartas com letras valem 10 e as cartas com números valem seus próprios números. O jogador, pede quantas cartas quiser e pode parar quando quiser. Se somar mais do que 21, ele perde. Quando para antes de somar 21, o jogador vence se a sua soma for maior que o \"jogo da banca\". Nesse caso, o jogo da banca é um número aleatório entre 12 e 21. Quando o jogador ganha, recebe o dobro do que apostou.\n",
        "\n",
        "**Algoritmo**\n",
        "\n",
        "1. Perguntar ao jogador quanto ele quer apostar.\n",
        "2. Sorteie a primeira carta do jogador e imprima na tela o valor da carta.\n",
        "3. Repetir a pergunta: \"deseja receber mais uma carta ou parar?\" até o jogador escolha parar. Enquanto repetir:\n",
        "  1. Sorteie uma carta aleatória e imprima na tela o valor da carta\n",
        "  2. Imprima na tela a soma das cartas\n",
        "  3. Se passou de 21, diga que o jogador perdeu e encerre o jogo\n",
        "  4. Se não passo de 21, repita a pergunta.\n",
        "4. Se o jogador parar, gerar um valor aleatório entre 12 e 21.\n",
        "5. Se a soma do jogador for maior que o valor gerado, ele vence. Caso contrário, o jogador perde.\n",
        "6. Apresente o resultado final na tela e o valor da aposta."
      ],
      "metadata": {
        "id": "-lW5csTsQo3n"
      }
    },
    {
      "cell_type": "code",
      "source": [
        "aposta = int(input('\\nQuanto quer apostar?'))\n",
        "cartas = [1, 2, 3, 4, 5, 6, 7, 8, 9, 10, 10, 10, 10]\n",
        "carta1 = random.choice(cartas)\n",
        "print('A primeira carta sorteada foi {}'.format(carta1))\n",
        "soma = carta1\n",
        "escolha = input('Deseja retirar mais carta? Enter para sim ou P para parar')\n",
        "\n",
        "while escolha != 'P':\n",
        "    carta = random.choice(cartas)\n",
        "    print('A carta sorteda foi {}.'.format(carta))\n",
        "    soma = soma + carta\n",
        "\n",
        "    print('A soma agora é {}'.format(carta))\n",
        "\n",
        "    if soma > 21:\n",
        "      print('Jogador Perdeu')\n",
        "      break\n",
        "\n",
        "    escolha = input('Deseja retirar mais carta? Enter para sim ou P parar ')\n",
        "\n",
        "    if escolha == 'P':\n",
        "\n",
        "        casa = random.randint(12, 21)\n",
        "        print('O jogo da casa é {}'.format(casa))\n",
        "\n",
        "        if soma > casa:\n",
        "            print('Jogador ganhou')\n",
        "            print('Jogador vai receber{}'.format(aposta*2))\n",
        "            break\n",
        "        else:\n",
        "          print('Jogador Perdeu')\n",
        "          break"
      ],
      "metadata": {
        "colab": {
          "base_uri": "https://localhost:8080/"
        },
        "id": "bJN_H1Z8OmiD",
        "outputId": "e6a791de-80d7-4bd3-df42-bb58967d32ca"
      },
      "execution_count": null,
      "outputs": [
        {
          "output_type": "stream",
          "name": "stdout",
          "text": [
            "\n",
            "Quanto quer apostar? 50\n",
            "A primeira carta sorteada foi 6\n",
            "Deseja retirar mais carta? Enter para sim ou P para parar sim\n",
            "A carta sorteda foi 5.\n",
            "A soma agora é 5\n",
            "Deseja retirar mais carta? Enter para sim ou P parar  sim\n",
            "A carta sorteda foi 10.\n",
            "A soma agora é 10\n",
            "Deseja retirar mais carta? Enter para sim ou P parar  P\n",
            "A carta sorteda foi 4.\n",
            "A soma agora é 4\n",
            "Jogador Perdeu\n"
          ]
        }
      ]
    },
    {
      "cell_type": "markdown",
      "source": [
        "##**Programa Final** 💵"
      ],
      "metadata": {
        "id": "TnMIxCp7Btnp"
      }
    },
    {
      "cell_type": "markdown",
      "source": [
        "Faça um programa que pergunte o nome do jogador, o sáude no Cassino, apresente os jogos disponíveis e permita que ele escolha qual jogar.\n",
        "\n",
        "**Algoritmo**\n",
        "1. Entrada do nome do jogador\n",
        "2. Imprimir saudação\n",
        "3. Perguntar sobre os jogos.\n",
        "4. Conectar com o jogo escolhido pelo jogador.\n",
        "5. Criar a função Cassino."
      ],
      "metadata": {
        "id": "IF5HfDddBw6W"
      }
    },
    {
      "cell_type": "code",
      "source": [
        "def Cassino():\n",
        "    nome = input('Qual é o seu nome?')\n",
        "\n",
        "    print('\\n{}, seja bem vindo(a) ao Super Cassino'.format(nome))\n",
        "    print('Aqui você pode jogar \"Roletinha\" ou \"21\"')\n",
        "    escolha = input('\\nQual jogo deseja jogar')\n",
        "\n",
        "    if escolha == 'Roletinha':\n",
        "        Roletinha()\n",
        "    elif escolha =='21':\n",
        "        Jogo21()\n",
        "    else:\n",
        "        print('\\n*** Eita, não temos esse jogo...Tchau')"
      ],
      "metadata": {
        "id": "RztADZARCQKa"
      },
      "execution_count": null,
      "outputs": []
    },
    {
      "cell_type": "code",
      "source": [
        "Cassino()"
      ],
      "metadata": {
        "colab": {
          "base_uri": "https://localhost:8080/"
        },
        "id": "edyVWyUeecR_",
        "outputId": "a540016d-9f4c-4515-998b-ecbf29848c59"
      },
      "execution_count": null,
      "outputs": [
        {
          "output_type": "stream",
          "name": "stdout",
          "text": [
            "Qual é o seu nome? Karin\n",
            "\n",
            " Karin, seja bem vindo(a) ao Super Cassino\n",
            "Aqui você pode jogar \"Roletinha\" ou \"21\"\n",
            "\n",
            "Qual jogo deseja jogarRoletinha\n",
            "\n",
            "Quanto quer apostar? 50\n",
            "\n",
            "Qual número de 1-6 você deseja apostar 5\n",
            "O resultado da roleta é: 6\n",
            "\n",
            "Infelizmente, você perdeu!\n",
            "Mais sorte na próxima!\n"
          ]
        }
      ]
    }
  ]
}
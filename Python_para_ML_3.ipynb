{
  "nbformat": 4,
  "nbformat_minor": 0,
  "metadata": {
    "colab": {
      "provenance": [],
      "authorship_tag": "ABX9TyOcY3NG5aMUIFtWQngM9l5A",
      "include_colab_link": true
    },
    "kernelspec": {
      "name": "python3",
      "display_name": "Python 3"
    },
    "language_info": {
      "name": "python"
    }
  },
  "cells": [
    {
      "cell_type": "markdown",
      "metadata": {
        "id": "view-in-github",
        "colab_type": "text"
      },
      "source": [
        "<a href=\"https://colab.research.google.com/github/karinfaraujo/karinfaraujo/blob/main/Python_para_ML_3.ipynb\" target=\"_parent\"><img src=\"https://colab.research.google.com/assets/colab-badge.svg\" alt=\"Open In Colab\"/></a>"
      ]
    },
    {
      "cell_type": "markdown",
      "source": [
        "#**Python para Machine Learning - 3**#"
      ],
      "metadata": {
        "id": "eANCJADpgShF"
      }
    },
    {
      "cell_type": "markdown",
      "source": [
        "##**Tuplas**"
      ],
      "metadata": {
        "id": "EbIlCT8vg3dF"
      }
    },
    {
      "cell_type": "markdown",
      "source": [
        "São muito similares a listas e definidas utilizando parênteses **( )**. A diferença entre listas e tuplas é que tuplas não são mutáveis, isto é, você não consegue alterar o valor de uma entrada de uma tupla."
      ],
      "metadata": {
        "id": "sg04SMFKnvkK"
      }
    },
    {
      "cell_type": "code",
      "source": [
        "tupla = ('Karin', 31, True, len)\n",
        "print(tupla)"
      ],
      "metadata": {
        "colab": {
          "base_uri": "https://localhost:8080/"
        },
        "id": "WiVJDoc8g1DV",
        "outputId": "9edb4298-9d9c-40b7-f66d-0c12c17f43bd"
      },
      "execution_count": null,
      "outputs": [
        {
          "output_type": "stream",
          "name": "stdout",
          "text": [
            "('Karin', 31, True, <built-in function len>)\n"
          ]
        }
      ]
    },
    {
      "cell_type": "code",
      "source": [
        "tupla[0]"
      ],
      "metadata": {
        "colab": {
          "base_uri": "https://localhost:8080/",
          "height": 36
        },
        "id": "DxV05WP0hEWw",
        "outputId": "8952e0ab-2339-4f1f-c995-39bab7368778"
      },
      "execution_count": null,
      "outputs": [
        {
          "output_type": "execute_result",
          "data": {
            "text/plain": [
              "'Karin'"
            ],
            "application/vnd.google.colaboratory.intrinsic+json": {
              "type": "string"
            }
          },
          "metadata": {},
          "execution_count": 5
        }
      ]
    },
    {
      "cell_type": "code",
      "source": [
        "tupla[0] = 'Python'"
      ],
      "metadata": {
        "colab": {
          "base_uri": "https://localhost:8080/",
          "height": 172
        },
        "id": "mtjMSmqehTmU",
        "outputId": "9292bec1-02f2-4bb7-8de1-e2247de2a1d8"
      },
      "execution_count": null,
      "outputs": [
        {
          "output_type": "error",
          "ename": "TypeError",
          "evalue": "ignored",
          "traceback": [
            "\u001b[0;31m---------------------------------------------------------------------------\u001b[0m",
            "\u001b[0;31mTypeError\u001b[0m                                 Traceback (most recent call last)",
            "\u001b[0;32m<ipython-input-6-80253863f451>\u001b[0m in \u001b[0;36m<cell line: 1>\u001b[0;34m()\u001b[0m\n\u001b[0;32m----> 1\u001b[0;31m \u001b[0mtupla\u001b[0m\u001b[0;34m[\u001b[0m\u001b[0;36m0\u001b[0m\u001b[0;34m]\u001b[0m \u001b[0;34m=\u001b[0m \u001b[0;34m'Python'\u001b[0m\u001b[0;34m\u001b[0m\u001b[0;34m\u001b[0m\u001b[0m\n\u001b[0m",
            "\u001b[0;31mTypeError\u001b[0m: 'tuple' object does not support item assignment"
          ]
        }
      ]
    },
    {
      "cell_type": "code",
      "source": [
        "lista = ['Karin', 31, True, len]"
      ],
      "metadata": {
        "id": "dZizof3Nhafr"
      },
      "execution_count": null,
      "outputs": []
    },
    {
      "cell_type": "code",
      "source": [
        "lista[0] = 'Python'"
      ],
      "metadata": {
        "id": "JNg-aaX3hgcM"
      },
      "execution_count": null,
      "outputs": []
    },
    {
      "cell_type": "code",
      "source": [
        "print(lista)"
      ],
      "metadata": {
        "colab": {
          "base_uri": "https://localhost:8080/"
        },
        "id": "6-upq3FOhlNK",
        "outputId": "bb38233e-bf66-4ecb-869f-52c4b9fbad26"
      },
      "execution_count": null,
      "outputs": [
        {
          "output_type": "stream",
          "name": "stdout",
          "text": [
            "['Python', 31, True, <built-in function len>]\n"
          ]
        }
      ]
    },
    {
      "cell_type": "markdown",
      "source": [
        "Em geral, as tuplas, são mais rápidas de se processar do que listas. Elas previnem que uma informação seja alterada ou modificada sem intenção. Elas não possuem o método **append** ou **extend**. No entanto, elas não são tão frequentemente utilizadas como são as listas."
      ],
      "metadata": {
        "id": "XtbraaxEoDct"
      }
    },
    {
      "cell_type": "markdown",
      "source": [
        "##**Conjuntos**"
      ],
      "metadata": {
        "id": "TuUOtg9ehrOS"
      }
    },
    {
      "cell_type": "markdown",
      "source": [
        "São um objeto básico do Python que simula um conjunto matemático. Neles, podemos armazenar elementos que não serão indexados e não permite repetições. Conjuntos são criados através da função **set** em uma lista ou utilizando **chaves { }**."
      ],
      "metadata": {
        "id": "JKpAzscRoXNc"
      }
    },
    {
      "cell_type": "code",
      "source": [
        "conjunto = {'Karin', True, 12, 13, 14, 12, True}"
      ],
      "metadata": {
        "id": "GV9v4pmfhxRO"
      },
      "execution_count": null,
      "outputs": []
    },
    {
      "cell_type": "code",
      "source": [
        "print(conjunto)"
      ],
      "metadata": {
        "colab": {
          "base_uri": "https://localhost:8080/"
        },
        "id": "5zn3Evuih9gH",
        "outputId": "460a44ee-f33a-42dd-adbb-eb7f7eb2e020"
      },
      "execution_count": null,
      "outputs": [
        {
          "output_type": "stream",
          "name": "stdout",
          "text": [
            "{True, 'Karin', 12, 13, 14}\n"
          ]
        }
      ]
    },
    {
      "cell_type": "code",
      "source": [
        "conj1 = {'A', 'B', 'C', 1, 2, 3}\n",
        "conj2 = {'C,', 'D', 'E', 3, 4, 5}\n",
        "\n",
        "print(conj1)\n",
        "print(conj2)"
      ],
      "metadata": {
        "colab": {
          "base_uri": "https://localhost:8080/"
        },
        "id": "reVKXRdhh_a0",
        "outputId": "8c7e5939-d5a8-4f04-f1a3-7815cefc4f37"
      },
      "execution_count": null,
      "outputs": [
        {
          "output_type": "stream",
          "name": "stdout",
          "text": [
            "{1, 2, 3, 'A', 'B', 'C'}\n",
            "{3, 4, 5, 'D', 'C,', 'E'}\n"
          ]
        }
      ]
    },
    {
      "cell_type": "code",
      "source": [
        "print('Interseção:', conj1.intersection(conj2)) #Operações\n",
        "print('União:', conj1.union(conj2))"
      ],
      "metadata": {
        "colab": {
          "base_uri": "https://localhost:8080/"
        },
        "id": "Lzl61mStipAl",
        "outputId": "401aedf2-1183-4b24-96da-7e3de1f840f6"
      },
      "execution_count": null,
      "outputs": [
        {
          "output_type": "stream",
          "name": "stdout",
          "text": [
            "Interseção: {3}\n",
            "União: {1, 2, 3, 4, 5, 'B', 'C,', 'A', 'D', 'C', 'E'}\n"
          ]
        }
      ]
    },
    {
      "cell_type": "code",
      "source": [
        "lista"
      ],
      "metadata": {
        "colab": {
          "base_uri": "https://localhost:8080/"
        },
        "id": "xIjdn9S8i-lp",
        "outputId": "bdb7cbad-8073-4430-86fe-f9be86ac25b1"
      },
      "execution_count": null,
      "outputs": [
        {
          "output_type": "execute_result",
          "data": {
            "text/plain": [
              "['Python', 31, True, <function len(obj, /)>]"
            ]
          },
          "metadata": {},
          "execution_count": 18
        }
      ]
    },
    {
      "cell_type": "code",
      "source": [
        "conj3 = set(lista)"
      ],
      "metadata": {
        "id": "-WzlR2mzjmA1"
      },
      "execution_count": null,
      "outputs": []
    },
    {
      "cell_type": "code",
      "source": [
        "print(conj3)"
      ],
      "metadata": {
        "colab": {
          "base_uri": "https://localhost:8080/"
        },
        "id": "RFRMsAOrjqHc",
        "outputId": "e2bde1f0-07e3-4daf-c95f-891c8adf37f1"
      },
      "execution_count": null,
      "outputs": [
        {
          "output_type": "stream",
          "name": "stdout",
          "text": [
            "{<built-in function len>, 'Python', True, 31}\n"
          ]
        }
      ]
    },
    {
      "cell_type": "markdown",
      "source": [
        "##**A Biblioteca Numpy**"
      ],
      "metadata": {
        "id": "vgufjxS_j6SU"
      }
    },
    {
      "cell_type": "markdown",
      "source": [
        "É a biblioteca mais popular do Python para se trabalhar com arrays.\n",
        "\n",
        "Arrays são conjuntos de valores, que podem ser n-dimensionais.\n",
        "\n",
        "Geralmente, um número apenas, um ponto, é um array de dimensão 0\n",
        "\n",
        "Uma lista de valores é um array de dimensão 1.\n",
        "\n",
        "Uma matriz de valores é uma array de dimensão 2.\n",
        "\n",
        "Um tensor de valores é um array de dimensão 3."
      ],
      "metadata": {
        "id": "MX1dw0Fso4iM"
      }
    },
    {
      "cell_type": "code",
      "source": [
        "import numpy as np\n",
        "\n",
        "a0 = np.array(3)\n",
        "print(a0)"
      ],
      "metadata": {
        "colab": {
          "base_uri": "https://localhost:8080/"
        },
        "id": "Mi5QUVm9kBn-",
        "outputId": "810a5dc5-ecc1-442b-d08f-afaa52a13fe6"
      },
      "execution_count": null,
      "outputs": [
        {
          "output_type": "stream",
          "name": "stdout",
          "text": [
            "3\n"
          ]
        }
      ]
    },
    {
      "cell_type": "code",
      "source": [
        "a1 = np.array([2, 3, 5])\n",
        "print(a1)"
      ],
      "metadata": {
        "colab": {
          "base_uri": "https://localhost:8080/"
        },
        "id": "oEnVPYMakErg",
        "outputId": "01e0b16b-ef70-4a8f-a5bc-2eb484f8db6b"
      },
      "execution_count": null,
      "outputs": [
        {
          "output_type": "stream",
          "name": "stdout",
          "text": [
            "[2 3 5]\n"
          ]
        }
      ]
    },
    {
      "cell_type": "code",
      "source": [
        "type(a1)"
      ],
      "metadata": {
        "colab": {
          "base_uri": "https://localhost:8080/"
        },
        "id": "AMTAGA-OlGQ2",
        "outputId": "4c60431b-fedc-48bc-e99d-8d31aadecd6f"
      },
      "execution_count": null,
      "outputs": [
        {
          "output_type": "execute_result",
          "data": {
            "text/plain": [
              "numpy.ndarray"
            ]
          },
          "metadata": {},
          "execution_count": 26
        }
      ]
    },
    {
      "cell_type": "code",
      "source": [
        "a2 = np.array([ [1, 3, 5] , [2, 4, 6] ])\n",
        "print(a2)"
      ],
      "metadata": {
        "colab": {
          "base_uri": "https://localhost:8080/"
        },
        "id": "7WE6uruklJjg",
        "outputId": "299ef7ab-3348-4794-bfd8-38bee682436f"
      },
      "execution_count": null,
      "outputs": [
        {
          "output_type": "stream",
          "name": "stdout",
          "text": [
            "[[1 3 5]\n",
            " [2 4 6]]\n"
          ]
        }
      ]
    },
    {
      "cell_type": "code",
      "source": [
        "a3 = np.array([ [ [1, 3, 5] , [2, 4, 6] , [7, 8, 9] , [11, 12, 13] ] ])\n",
        "print(a3)"
      ],
      "metadata": {
        "colab": {
          "base_uri": "https://localhost:8080/"
        },
        "id": "YpD7njuEluB7",
        "outputId": "d35ec557-4a03-4146-f3bf-7180832adf9a"
      },
      "execution_count": null,
      "outputs": [
        {
          "output_type": "stream",
          "name": "stdout",
          "text": [
            "[[[ 1  3  5]\n",
            "  [ 2  4  6]\n",
            "  [ 7  8  9]\n",
            "  [11 12 13]]]\n"
          ]
        }
      ]
    },
    {
      "cell_type": "code",
      "source": [
        "# Atributo ndim verifica a dimensão dos arrays numpy.\n",
        "print(a0.ndim)\n",
        "print(a1.ndim)\n",
        "print(a2.ndim)\n",
        "print(a3.ndim)"
      ],
      "metadata": {
        "colab": {
          "base_uri": "https://localhost:8080/"
        },
        "id": "iKLfXU5HmHgu",
        "outputId": "1c51864d-a001-4da3-ddf9-af97bfeb049b"
      },
      "execution_count": null,
      "outputs": [
        {
          "output_type": "stream",
          "name": "stdout",
          "text": [
            "0\n",
            "1\n",
            "2\n",
            "3\n"
          ]
        }
      ]
    },
    {
      "cell_type": "code",
      "source": [
        "# Pode-se realizar operaçoes com arrays.\n",
        "lista = [1, 2, 3, 4]\n",
        "array = np.array(lista)\n",
        "\n",
        "print(2 + array)\n",
        "print(2 * array)\n",
        "print(array / 2)\n",
        "print(array // 2)\n",
        "print(array % 2)\n",
        "print(array ** 3)"
      ],
      "metadata": {
        "colab": {
          "base_uri": "https://localhost:8080/"
        },
        "id": "JdJ9p8hqmqH2",
        "outputId": "37371b31-b924-4adf-8460-e5998cccc788"
      },
      "execution_count": null,
      "outputs": [
        {
          "output_type": "stream",
          "name": "stdout",
          "text": [
            "[3 4 5 6]\n",
            "[2 4 6 8]\n",
            "[0.5 1.  1.5 2. ]\n",
            "[0 1 1 2]\n",
            "[1 0 1 0]\n",
            "[ 1  8 27 64]\n"
          ]
        }
      ]
    },
    {
      "cell_type": "code",
      "source": [
        "# Transforma uma lista em um array.\n",
        "lista2 = [1, 1, 2, 3]\n",
        "array2 = np.array(lista2)\n",
        "\n",
        "matriz = (array2.reshape(2, 2))"
      ],
      "metadata": {
        "id": "786Co6Zom8lr"
      },
      "execution_count": null,
      "outputs": []
    },
    {
      "cell_type": "code",
      "source": [
        "np.linalg.det(matriz)"
      ],
      "metadata": {
        "colab": {
          "base_uri": "https://localhost:8080/"
        },
        "id": "HYVSHCGZn_qa",
        "outputId": "d7f9623f-02d8-48c0-f121-17380ff8f886"
      },
      "execution_count": null,
      "outputs": [
        {
          "output_type": "execute_result",
          "data": {
            "text/plain": [
              "1.0"
            ]
          },
          "metadata": {},
          "execution_count": 33
        }
      ]
    },
    {
      "cell_type": "code",
      "source": [
        "# Determinante de uma matriz.\n",
        "from numpy.linalg import det\n",
        "det(matriz)"
      ],
      "metadata": {
        "colab": {
          "base_uri": "https://localhost:8080/"
        },
        "id": "iZnF93osoZGT",
        "outputId": "fd199c66-287e-476f-857f-b6745e728f32"
      },
      "execution_count": null,
      "outputs": [
        {
          "output_type": "execute_result",
          "data": {
            "text/plain": [
              "1.0"
            ]
          },
          "metadata": {},
          "execution_count": 34
        }
      ]
    },
    {
      "cell_type": "code",
      "source": [
        "matriz.dot(matriz)"
      ],
      "metadata": {
        "colab": {
          "base_uri": "https://localhost:8080/"
        },
        "id": "Q9GZk4GRogqv",
        "outputId": "5c5f7ffd-e036-4d3b-fa40-07fc9caba0b6"
      },
      "execution_count": null,
      "outputs": [
        {
          "output_type": "execute_result",
          "data": {
            "text/plain": [
              "array([[ 3,  4],\n",
              "       [ 8, 11]])"
            ]
          },
          "metadata": {},
          "execution_count": 35
        }
      ]
    },
    {
      "cell_type": "code",
      "source": [
        "# Inversa de uma matriz.\n",
        "from numpy.linalg import inv\n",
        "mi = inv(matriz)"
      ],
      "metadata": {
        "id": "tsOXYCYcokK3"
      },
      "execution_count": null,
      "outputs": []
    },
    {
      "cell_type": "code",
      "source": [
        "matriz.dot(mi)"
      ],
      "metadata": {
        "colab": {
          "base_uri": "https://localhost:8080/"
        },
        "id": "3Njg96Qxow4C",
        "outputId": "6ee90359-a398-497d-9eef-c71e293fa72b"
      },
      "execution_count": null,
      "outputs": [
        {
          "output_type": "execute_result",
          "data": {
            "text/plain": [
              "array([[1., 0.],\n",
              "       [0., 1.]])"
            ]
          },
          "metadata": {},
          "execution_count": 37
        }
      ]
    },
    {
      "cell_type": "code",
      "source": [
        "# Sequência de valores.\n",
        "seq = np.arange(10, 21.1, 0.5)\n",
        "print(seq)"
      ],
      "metadata": {
        "colab": {
          "base_uri": "https://localhost:8080/"
        },
        "id": "wFpznJ6Ooz86",
        "outputId": "b3919dba-f171-44e0-8c58-665bc5d54d10"
      },
      "execution_count": null,
      "outputs": [
        {
          "output_type": "stream",
          "name": "stdout",
          "text": [
            "[10.  10.5 11.  11.5 12.  12.5 13.  13.5 14.  14.5 15.  15.5 16.  16.5\n",
            " 17.  17.5 18.  18.5 19.  19.5 20.  20.5 21. ]\n"
          ]
        }
      ]
    },
    {
      "cell_type": "code",
      "source": [
        "# O método reshape altera a distribuição de um array, mudando a sua dimensão.\n",
        "np.random.uniform(0, 1, 25).reshape(5, 5)"
      ],
      "metadata": {
        "colab": {
          "base_uri": "https://localhost:8080/"
        },
        "id": "tn6hsCvIpBsv",
        "outputId": "77acfeb0-d61c-4492-b5fa-e755b24f6421"
      },
      "execution_count": null,
      "outputs": [
        {
          "output_type": "execute_result",
          "data": {
            "text/plain": [
              "array([[0.11488994, 0.85561505, 0.78783685, 0.30447588, 0.21388173],\n",
              "       [0.43351049, 0.14250801, 0.30860147, 0.64680662, 0.57179054],\n",
              "       [0.61340284, 0.38761531, 0.10224476, 0.56975281, 0.16027581],\n",
              "       [0.76137523, 0.79985392, 0.61915623, 0.28768718, 0.04501096],\n",
              "       [0.86324072, 0.9938685 , 0.05650784, 0.64194576, 0.5491259 ]])"
            ]
          },
          "metadata": {},
          "execution_count": 39
        }
      ]
    },
    {
      "cell_type": "code",
      "source": [
        "x = [1, 2, 3, 4, 5]\n",
        "y = [3, 5, 7, 9, 11] # y = 2x + 1"
      ],
      "metadata": {
        "id": "nCIhAREepQc8"
      },
      "execution_count": null,
      "outputs": []
    },
    {
      "cell_type": "code",
      "source": [
        "# Polinômio de grau n.\n",
        "np.polyfit(x, y, deg = 1)"
      ],
      "metadata": {
        "colab": {
          "base_uri": "https://localhost:8080/"
        },
        "id": "bimFL3NOptlP",
        "outputId": "e2dce9e3-15cf-446c-efdc-05aafac8c664"
      },
      "execution_count": null,
      "outputs": [
        {
          "output_type": "execute_result",
          "data": {
            "text/plain": [
              "array([2., 1.])"
            ]
          },
          "metadata": {},
          "execution_count": 41
        }
      ]
    },
    {
      "cell_type": "code",
      "source": [
        "x = np.random.uniform(1, 10, 100)\n",
        "y = 3*x - 2 + np.random.normal(0, 1, len(x))\n",
        "\n",
        "b1, b0 = np.polyfit(x, y, deg = 1)\n",
        "\n",
        "ex = np.arange(1, 10, 0.05)\n",
        "fx = b1*ex + b0\n",
        "\n",
        "import matplotlib.pyplot as plt\n",
        "plt.plot(x, y, '.', marker = '^', color = 'green', alpha = 0.5)\n",
        "\n",
        "plt.plot(ex, fx, color = 'red')\n",
        "\n",
        "plt.title('Gráfico de Dispersão')\n",
        "plt.show()"
      ],
      "metadata": {
        "colab": {
          "base_uri": "https://localhost:8080/",
          "height": 510
        },
        "id": "8uEydKvgp2Pr",
        "outputId": "256812cf-001a-4ec7-fa67-66844b13ed8a"
      },
      "execution_count": null,
      "outputs": [
        {
          "output_type": "stream",
          "name": "stderr",
          "text": [
            "<ipython-input-42-4a350e4f5e9e>:10: UserWarning: marker is redundantly defined by the 'marker' keyword argument and the fmt string \".\" (-> marker='.'). The keyword argument will take precedence.\n",
            "  plt.plot(x, y, '.', marker = '^', color = 'green', alpha = 0.5)\n"
          ]
        },
        {
          "output_type": "display_data",
          "data": {
            "text/plain": [
              "<Figure size 640x480 with 1 Axes>"
            ],
            "image/png": "[encoded data removed]"
          },
          "metadata": {}
        }
      ]
    },
    {
      "cell_type": "code",
      "source": [
        "x = np.random.uniform(1, 10, 1000)\n",
        "y = x**2 - 8*x - 50 + np.random.normal(0, 1, len(x))\n",
        "\n",
        "b1, b0 = np.polyfit(x, y, deg = 1)\n",
        "ex = np.arange(1, 10, 0.05)\n",
        "fx = b1*ex + b0\n",
        "\n",
        "c2, c1, c0 = np.polyfit(x, y, deg = 2)\n",
        "cx = np.arange(1, 10, 0.05)\n",
        "cy = c2*cx**2 + c1*cx + c0\n",
        "\n",
        "import matplotlib.pyplot as plt\n",
        "plt.plot(x, y, '.', marker = '^', color = 'green', alpha = 0.15)\n",
        "\n",
        "plt.plot(ex, fx, color = 'red')\n",
        "plt.plot(cx, cy, color = 'blue')\n",
        "\n",
        "plt.title('Gráfico de Dispersão')\n",
        "plt.show()\n",
        "\n",
        "print(c2, c1, c0)"
      ],
      "metadata": {
        "colab": {
          "base_uri": "https://localhost:8080/",
          "height": 528
        },
        "id": "G67h-CRpq6EX",
        "outputId": "85273d2c-683f-471d-8429-79bf76f9d48b"
      },
      "execution_count": null,
      "outputs": [
        {
          "output_type": "stream",
          "name": "stderr",
          "text": [
            "<ipython-input-43-014913eaa999>:13: UserWarning: marker is redundantly defined by the 'marker' keyword argument and the fmt string \".\" (-> marker='.'). The keyword argument will take precedence.\n",
            "  plt.plot(x, y, '.', marker = '^', color = 'green', alpha = 0.15)\n"
          ]
        },
        {
          "output_type": "display_data",
          "data": {
            "text/plain": [
              "<Figure size 640x480 with 1 Axes>"
            ],
            "image/png": "[encoded data removed]"
          },
          "metadata": {}
        },
        {
          "output_type": "stream",
          "name": "stdout",
          "text": [
            "1.0010632226016132 -8.011876070602874 -50.012150194613156\n"
          ]
        }
      ]
    },
    {
      "cell_type": "code",
      "source": [],
      "metadata": {
        "id": "A-tU19Q1uNEv"
      },
      "execution_count": null,
      "outputs": []
    },
    {
      "cell_type": "markdown",
      "source": [
        "##**Projeto: Simulação de um álbum de figurinhas**"
      ],
      "metadata": {
        "id": "7mZuiK-1uxYh"
      }
    },
    {
      "cell_type": "markdown",
      "source": [
        "### EXEMPLO: **Álbum Premier League 2019-2020**\n",
        "1. Total de cromos: **636**\n",
        "2. Preço do livro ilustrado capa brochura: **R\\$ 8,90**\n",
        "3. Envelope com 5 cromos: **R\\$ 2,50**\n",
        "\n",
        "### SUPOSIÇÕES\n",
        "1. Todas as figurinhas tem igual probabilidade de serem sorteradas\n",
        "2. Um pacotinho é comprado por vez  \n",
        "\n",
        "### ALGORITMO\n",
        "1. Comprar um pacotinho de figurinhas (5 figurinhas cada, que podem ser repetidas);\n",
        "2. Colar no álbum e verificar se o álbum está completo;\n",
        "3. Caso esteja incompleto, comprar mais um pacotinho, caso contrário, terminar.\n",
        "\n",
        "### PERGUNTAS\n",
        "1. Qual o valor médio investido para completar o álbum nessas condições?\n",
        "2. Quantos pacotes são necessários comprar, em média, para completar o álbum?\n",
        "3. Qual é a distribuição empírica do valor investido para completar o álbum?"
      ],
      "metadata": {
        "id": "aoLSE6aXrcna"
      }
    },
    {
      "cell_type": "code",
      "source": [
        "n_album = 636\n",
        "preco_album = 8.90\n",
        "preco_pacote = 2.50\n",
        "simulacoes = 1000"
      ],
      "metadata": {
        "id": "INzdnJNTu1--"
      },
      "execution_count": null,
      "outputs": []
    },
    {
      "cell_type": "code",
      "source": [
        "import numpy as np\n",
        "\n",
        "# Representação do álbum\n",
        "album = np.zeros(n_album)\n",
        "\n",
        "# Representação do pacote de figurinhas\n",
        "pacotinho = np.random.choice(range(n_album), 5)\n",
        "pacotinho\n",
        "\n",
        "# Colando as figurinhas obtidas no álbum\n",
        "for i in pacotinho:\n",
        "    album[i] += 1\n",
        "\n"
      ],
      "metadata": {
        "id": "4Umy33PbvFqu"
      },
      "execution_count": null,
      "outputs": []
    },
    {
      "cell_type": "code",
      "source": [
        "print(album)"
      ],
      "metadata": {
        "colab": {
          "base_uri": "https://localhost:8080/"
        },
        "id": "si_e2z44saWJ",
        "outputId": "cf5056f8-fa80-46c3-e293-b0c0a19edf18"
      },
      "execution_count": null,
      "outputs": [
        {
          "output_type": "stream",
          "name": "stdout",
          "text": [
            "[0. 0. 0. 0. 0. 0. 0. 0. 0. 0. 0. 0. 0. 0. 0. 0. 0. 0. 0. 0. 0. 0. 0. 0.\n",
            " 0. 0. 0. 0. 0. 0. 0. 0. 0. 0. 0. 0. 0. 0. 0. 0. 0. 0. 0. 0. 1. 0. 0. 0.\n",
            " 0. 0. 0. 0. 0. 0. 0. 0. 0. 0. 0. 0. 0. 0. 0. 0. 0. 0. 0. 0. 0. 0. 0. 0.\n",
            " 0. 0. 0. 0. 0. 0. 0. 0. 0. 0. 0. 0. 0. 0. 0. 0. 0. 0. 0. 0. 0. 0. 0. 0.\n",
            " 0. 0. 0. 0. 0. 0. 0. 0. 0. 0. 0. 0. 0. 0. 0. 0. 0. 0. 0. 0. 0. 0. 0. 0.\n",
            " 0. 0. 0. 0. 0. 0. 0. 0. 0. 0. 0. 0. 0. 0. 0. 0. 0. 0. 0. 0. 0. 0. 0. 0.\n",
            " 0. 0. 0. 0. 0. 0. 0. 0. 0. 0. 0. 0. 0. 0. 0. 0. 0. 0. 0. 0. 0. 0. 0. 0.\n",
            " 0. 0. 0. 0. 0. 0. 0. 0. 0. 0. 0. 0. 0. 0. 0. 0. 0. 0. 0. 0. 0. 0. 0. 0.\n",
            " 0. 0. 0. 0. 0. 0. 0. 0. 0. 0. 0. 0. 0. 0. 0. 0. 0. 0. 0. 0. 0. 0. 0. 0.\n",
            " 0. 0. 0. 0. 0. 0. 0. 0. 0. 0. 0. 0. 0. 0. 0. 0. 0. 0. 0. 0. 0. 0. 0. 0.\n",
            " 0. 0. 0. 0. 0. 0. 0. 0. 0. 0. 0. 0. 0. 1. 0. 0. 0. 0. 0. 0. 0. 0. 0. 0.\n",
            " 0. 0. 0. 0. 0. 0. 0. 0. 0. 0. 0. 0. 0. 0. 0. 0. 0. 0. 0. 0. 0. 0. 0. 0.\n",
            " 0. 0. 0. 0. 0. 0. 0. 0. 1. 0. 0. 0. 0. 0. 0. 0. 0. 0. 0. 0. 0. 0. 0. 0.\n",
            " 0. 0. 0. 0. 0. 0. 0. 0. 0. 0. 0. 0. 0. 0. 0. 0. 0. 0. 0. 0. 0. 0. 0. 0.\n",
            " 0. 0. 0. 0. 0. 0. 0. 0. 0. 0. 0. 0. 0. 0. 0. 0. 0. 0. 0. 0. 0. 0. 0. 0.\n",
            " 0. 0. 0. 0. 0. 0. 0. 0. 0. 0. 0. 0. 0. 0. 0. 0. 0. 0. 0. 0. 0. 0. 0. 0.\n",
            " 0. 0. 0. 0. 0. 0. 0. 0. 0. 0. 0. 0. 0. 0. 0. 0. 0. 0. 0. 0. 0. 0. 0. 0.\n",
            " 0. 0. 0. 1. 0. 0. 0. 0. 0. 0. 0. 0. 0. 0. 0. 0. 0. 0. 0. 0. 0. 0. 0. 0.\n",
            " 0. 0. 0. 0. 0. 0. 0. 0. 0. 0. 0. 0. 0. 0. 0. 0. 0. 0. 0. 0. 0. 0. 0. 0.\n",
            " 0. 0. 0. 0. 0. 0. 0. 0. 0. 0. 0. 0. 0. 0. 0. 0. 0. 0. 0. 0. 0. 0. 0. 0.\n",
            " 0. 0. 0. 0. 0. 0. 0. 0. 0. 0. 0. 0. 0. 0. 0. 0. 0. 0. 0. 0. 0. 0. 0. 0.\n",
            " 0. 0. 0. 0. 0. 0. 0. 0. 0. 0. 0. 0. 0. 0. 0. 0. 0. 0. 0. 0. 0. 0. 0. 0.\n",
            " 0. 0. 0. 0. 0. 0. 0. 0. 0. 0. 0. 0. 0. 0. 0. 0. 0. 0. 0. 0. 0. 0. 0. 0.\n",
            " 0. 0. 0. 0. 0. 0. 0. 0. 0. 0. 0. 0. 0. 0. 0. 0. 0. 0. 0. 0. 0. 0. 0. 0.\n",
            " 0. 0. 0. 0. 0. 0. 0. 0. 0. 0. 0. 0. 1. 0. 0. 0. 0. 0. 0. 0. 0. 0. 0. 0.\n",
            " 0. 0. 0. 0. 0. 0. 0. 0. 0. 0. 0. 0. 0. 0. 0. 0. 0. 0. 0. 0. 0. 0. 0. 0.\n",
            " 0. 0. 0. 0. 0. 0. 0. 0. 0. 0. 0. 0.]\n"
          ]
        }
      ]
    },
    {
      "cell_type": "code",
      "source": [
        "# Comprando figurinhas até completar o álbum\n",
        "def SimulaAlbum():\n",
        "  album = np.zeros(n_album)\n",
        "  pacotes = 0\n",
        "  while not np.all(album > 0):\n",
        "        pacotinho = np.random.choice(range(n_album), 5)\n",
        "        pacotes += 1\n",
        "\n",
        "        for i in pacotinho:\n",
        "            album[i] += 1\n",
        "\n",
        "  valor_gasto = preco_album + preco_pacote * pacotes\n",
        "\n",
        "  return valor_gasto, pacotes\n",
        "\n",
        "SimulaAlbum()"
      ],
      "metadata": {
        "id": "yGkC67NT5Udo",
        "colab": {
          "base_uri": "https://localhost:8080/"
        },
        "outputId": "a22fb2b4-82fa-4e46-c2b6-e6271ca99129"
      },
      "execution_count": null,
      "outputs": [
        {
          "output_type": "execute_result",
          "data": {
            "text/plain": [
              "(2476.4, 987)"
            ]
          },
          "metadata": {},
          "execution_count": 15
        }
      ]
    },
    {
      "cell_type": "code",
      "source": [
        "valores = []\n",
        "\n",
        "for i in range(simulacoes):\n",
        "    valores.append(SimulaAlbum()[0])\n",
        "    if (i+1) % 50 == 0:\n",
        "        print('Simulação: ', i+1, '/', simulacoes)"
      ],
      "metadata": {
        "colab": {
          "base_uri": "https://localhost:8080/"
        },
        "id": "dg0nXySb74UM",
        "outputId": "dcedbd40-525e-4824-a3e5-15ac004ac0ae"
      },
      "execution_count": null,
      "outputs": [
        {
          "output_type": "stream",
          "name": "stdout",
          "text": [
            "Simulação:  50 / 1000\n",
            "Simulação:  100 / 1000\n",
            "Simulação:  150 / 1000\n",
            "Simulação:  200 / 1000\n",
            "Simulação:  250 / 1000\n",
            "Simulação:  300 / 1000\n",
            "Simulação:  350 / 1000\n",
            "Simulação:  400 / 1000\n",
            "Simulação:  450 / 1000\n",
            "Simulação:  500 / 1000\n",
            "Simulação:  550 / 1000\n",
            "Simulação:  600 / 1000\n",
            "Simulação:  650 / 1000\n",
            "Simulação:  700 / 1000\n",
            "Simulação:  750 / 1000\n",
            "Simulação:  800 / 1000\n",
            "Simulação:  850 / 1000\n",
            "Simulação:  900 / 1000\n",
            "Simulação:  950 / 1000\n",
            "Simulação:  1000 / 1000\n"
          ]
        }
      ]
    },
    {
      "cell_type": "markdown",
      "source": [
        "As respostas das perguntas 1 e 2, respctivamente, são:"
      ],
      "metadata": {
        "id": "MNBRTzCAufyq"
      }
    },
    {
      "cell_type": "code",
      "source": [
        "print('O valor médio gasto foi:', round(np.mean(valores), 2))\n",
        "print('O número médio de pacotes foi', round((np.mean(valores)- preco_album)/preco_pacote, 2))"
      ],
      "metadata": {
        "colab": {
          "base_uri": "https://localhost:8080/"
        },
        "id": "4CjnYg4Aum3W",
        "outputId": "cd5160b8-1777-4157-cd34-db75606624fb"
      },
      "execution_count": null,
      "outputs": [
        {
          "output_type": "stream",
          "name": "stdout",
          "text": [
            "O valor médio gasto foi: 2242.33\n",
            "O número médio de pacotes foi 893.37\n"
          ]
        }
      ]
    },
    {
      "cell_type": "markdown",
      "source": [
        "A distribuição empírica do valor gasto é visualizada através do **histograma** abaixo."
      ],
      "metadata": {
        "id": "jGd6dO6LvKVv"
      }
    },
    {
      "cell_type": "code",
      "source": [
        "plt.hist(valores, bins = 20, edgecolor = 'black', density = True)\n",
        "plt.title('Distribuição Emprírica do Valor Gasto para Completar o Álbum')\n",
        "plt.show()"
      ],
      "metadata": {
        "colab": {
          "base_uri": "https://localhost:8080/",
          "height": 455
        },
        "id": "3vkAUOzO8s3W",
        "outputId": "b96e6c3e-e35f-4523-f0b5-27a03a2afac7"
      },
      "execution_count": null,
      "outputs": [
        {
          "output_type": "display_data",
          "data": {
            "text/plain": [
              "<Figure size 640x480 with 1 Axes>"
            ],
            "image/png": "[encoded data removed]"
          },
          "metadata": {}
        }
      ]
    }
  ]
}
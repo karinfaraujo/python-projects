{
  "nbformat": 4,
  "nbformat_minor": 0,
  "metadata": {
    "colab": {
      "provenance": [],
      "authorship_tag": "ABX9TyNTHhO8kIa+ZBjrYfVNiUo2",
      "include_colab_link": true
    },
    "kernelspec": {
      "name": "python3",
      "display_name": "Python 3"
    },
    "language_info": {
      "name": "python"
    }
  },
  "cells": [
    {
      "cell_type": "markdown",
      "metadata": {
        "id": "view-in-github",
        "colab_type": "text"
      },
      "source": [
        "<a href=\"https://colab.research.google.com/github/karinfaraujo/python-projects/blob/main/Projeto_%C3%81lbum_de_Figurinhas.ipynb\" target=\"_parent\"><img src=\"https://colab.research.google.com/assets/colab-badge.svg\" alt=\"Open In Colab\"/></a>"
      ]
    },
    {
      "cell_type": "markdown",
      "source": [
        "#**PROJETO: Álbum One Piece 2021**#\n",
        "- Total de cromos: **212**.\n",
        "- Preço do livro ilustrado capa brochura: **R\\$ 10,00**.\n",
        "- Envelope com 4 cromos: **R\\$ 4,00**.\n"
      ],
      "metadata": {
        "id": "LYnszlLSKXx6"
      }
    },
    {
      "cell_type": "markdown",
      "source": [
        "### **SUPOSIÇÕES**\n",
        "1. Todas as figurinhas tem igual probabilidade de serem sorteradas.\n",
        "2. Um pacotinho é comprado por vez até que se complete o álbum."
      ],
      "metadata": {
        "id": "sY63PbxPKuV-"
      }
    },
    {
      "cell_type": "markdown",
      "source": [
        "### **ALGORITMO**\n",
        "1. Comprar um pacotinho de figurinhas (4 figurinhas cada, que podem ser repetidas);\n",
        "2. Colar no álbum e verificar se o álbum está completo;\n",
        "3. Caso esteja incompleto, comprar mais um pacotinho, caso contrário, terminar.\n"
      ],
      "metadata": {
        "id": "8Uy3zhH0K3ML"
      }
    },
    {
      "cell_type": "markdown",
      "source": [
        "### **PERGUNTAS**\n",
        "1. Qual o valor médio investido para completar o álbum nessas condições?\n",
        "2. Quantos pacotes são necessários comprar, em média, para completar o álbum?\n",
        "3. Qual é a distribuição empírica do valor investido para completar o álbum?\n",
        "4. Qual a probabilidade de se gastar menos que R\\$1500,00 para completar o álbum?\n",
        "5. Qual a probabilidade de se gastar mais do que a média para completar o álbum?\n",
        "6. Qual é um intervalo de confiança de 95% para o gasto ao se completar o álbum?\n",
        "7. Qual o valor médio gasto caso se esteja completando o álbum com mais um amigo?\n",
        "8. Qual o valor médio gasto caso se esteja completando o álbum com mais dois amigos?\n"
      ],
      "metadata": {
        "id": "vksujBOgLKfO"
      }
    },
    {
      "cell_type": "code",
      "source": [
        "n_album = 212\n",
        "preco_pacote = 4\n",
        "cromos_por_pacote = 4\n",
        "preco_album = 10\n",
        "simulacoes = 1000"
      ],
      "metadata": {
        "id": "SGvSRNSCLLUD"
      },
      "execution_count": null,
      "outputs": []
    },
    {
      "cell_type": "code",
      "source": [
        "import numpy as np"
      ],
      "metadata": {
        "id": "PoC5_VA3LhMy"
      },
      "execution_count": null,
      "outputs": []
    },
    {
      "cell_type": "code",
      "source": [
        "# Representação do álbum\n",
        "album = np.zeros(n_album)\n",
        "album"
      ],
      "metadata": {
        "colab": {
          "base_uri": "https://localhost:8080/"
        },
        "id": "zWSsxAelOTSX",
        "outputId": "f5ce93c2-4d2f-4722-e371-ae03687c78ad"
      },
      "execution_count": null,
      "outputs": [
        {
          "output_type": "execute_result",
          "data": {
            "text/plain": [
              "array([0., 0., 0., 0., 0., 0., 0., 0., 0., 0., 0., 0., 0., 0., 0., 0., 0.,\n",
              "       0., 0., 0., 0., 0., 0., 0., 0., 0., 0., 0., 0., 0., 0., 0., 0., 0.,\n",
              "       0., 0., 0., 0., 0., 0., 0., 0., 0., 0., 0., 0., 0., 0., 0., 0., 0.,\n",
              "       0., 0., 0., 0., 0., 0., 0., 0., 0., 0., 0., 0., 0., 0., 0., 0., 0.,\n",
              "       0., 0., 0., 0., 0., 0., 0., 0., 0., 0., 0., 0., 0., 0., 0., 0., 0.,\n",
              "       0., 0., 0., 0., 0., 0., 0., 0., 0., 0., 0., 0., 0., 0., 0., 0., 0.,\n",
              "       0., 0., 0., 0., 0., 0., 0., 0., 0., 0., 0., 0., 0., 0., 0., 0., 0.,\n",
              "       0., 0., 0., 0., 0., 0., 0., 0., 0., 0., 0., 0., 0., 0., 0., 0., 0.,\n",
              "       0., 0., 0., 0., 0., 0., 0., 0., 0., 0., 0., 0., 0., 0., 0., 0., 0.,\n",
              "       0., 0., 0., 0., 0., 0., 0., 0., 0., 0., 0., 0., 0., 0., 0., 0., 0.,\n",
              "       0., 0., 0., 0., 0., 0., 0., 0., 0., 0., 0., 0., 0., 0., 0., 0., 0.,\n",
              "       0., 0., 0., 0., 0., 0., 0., 0., 0., 0., 0., 0., 0., 0., 0., 0., 0.,\n",
              "       0., 0., 0., 0., 0., 0., 0., 0.])"
            ]
          },
          "metadata": {},
          "execution_count": 3
        }
      ]
    },
    {
      "cell_type": "code",
      "source": [
        "# Represresentação do pacote de figurinhas\n",
        "pacotinho = np.random.choice(np.arange(0, n_album), size = 4)\n",
        "pacotinho"
      ],
      "metadata": {
        "colab": {
          "base_uri": "https://localhost:8080/"
        },
        "id": "ElzqvBoRNMUa",
        "outputId": "58b05dcf-66c5-4eb1-a981-92e29a81abba"
      },
      "execution_count": null,
      "outputs": [
        {
          "output_type": "execute_result",
          "data": {
            "text/plain": [
              "array([178, 108, 177,  92])"
            ]
          },
          "metadata": {},
          "execution_count": 4
        }
      ]
    },
    {
      "cell_type": "code",
      "source": [
        "# Colabndo as figurinhas no álbum\n",
        "for i in pacotinho:\n",
        "    album[i] += 1\n"
      ],
      "metadata": {
        "id": "V8kJfkrANq-u"
      },
      "execution_count": null,
      "outputs": []
    },
    {
      "cell_type": "code",
      "source": [
        "# comprando figurinhas até completar o álbum\n",
        "def SimulaAlbum():\n",
        "    album = np.zeros(n_album)\n",
        "    pacotes = 0\n",
        "    while not np.all(album >= 1):\n",
        "        pacotinho = np.random.choice(range(n_album), 4)\n",
        "        pacotes += 1\n",
        "\n",
        "        for i in pacotinho:\n",
        "            album[i] += 1\n",
        "\n",
        "    valor_gasto = preco_album + preco_pacote * pacotes\n",
        "\n",
        "    return valor_gasto, pacotes\n",
        "\n",
        "SimulaAlbum()"
      ],
      "metadata": {
        "id": "XDom4w5WPiAs",
        "colab": {
          "base_uri": "https://localhost:8080/"
        },
        "outputId": "65052e84-3326-45fb-f6a7-aa52401857d3"
      },
      "execution_count": null,
      "outputs": [
        {
          "output_type": "execute_result",
          "data": {
            "text/plain": [
              "(1114, 276)"
            ]
          },
          "metadata": {},
          "execution_count": 9
        }
      ]
    },
    {
      "cell_type": "code",
      "source": [
        "def Simulacao(simulacoes = 1000, silencio = False):\n",
        "    valores = []\n",
        "    for i in range(simulacoes):\n",
        "        valores.append(SimulaAlbum()[0])\n",
        "        if not silencio:\n",
        "            if (i+1) % 100 == 0:\n",
        "                print('Simulação: ', i+1, '/', simulacoes)\n",
        "    return valores\n",
        "\n",
        "sim = Simulacao(simulacoes)"
      ],
      "metadata": {
        "colab": {
          "base_uri": "https://localhost:8080/"
        },
        "id": "-0ATnPA8P-9b",
        "outputId": "db4eb631-bc54-418f-9a9c-316f5d4f2bfe"
      },
      "execution_count": null,
      "outputs": [
        {
          "output_type": "stream",
          "name": "stdout",
          "text": [
            "Simulação:  100 / 1000\n",
            "Simulação:  200 / 1000\n",
            "Simulação:  300 / 1000\n",
            "Simulação:  400 / 1000\n",
            "Simulação:  500 / 1000\n",
            "Simulação:  600 / 1000\n",
            "Simulação:  700 / 1000\n",
            "Simulação:  800 / 1000\n",
            "Simulação:  900 / 1000\n",
            "Simulação:  1000 / 1000\n"
          ]
        }
      ]
    },
    {
      "cell_type": "code",
      "source": [
        "# Questões 1 e 2\n",
        "print('O valor médio gasto foi:', round(np.mean(sim), 2))\n",
        "print('O numero de pacotes médio foi:', round((np.mean(sim) - preco_album)/preco_pacote, 2))"
      ],
      "metadata": {
        "colab": {
          "base_uri": "https://localhost:8080/"
        },
        "id": "baYss_gxW18b",
        "outputId": "882eaf1a-9cb5-404c-d79a-72800de9d3c6"
      },
      "execution_count": null,
      "outputs": [
        {
          "output_type": "stream",
          "name": "stdout",
          "text": [
            "O valor médio gasto foi: 1248.35\n",
            "O numero de pacotes médio foi: 309.59\n"
          ]
        }
      ]
    },
    {
      "cell_type": "code",
      "source": [
        "# Questão 3\n",
        "import matplotlib.pyplot as plt\n",
        "\n",
        "plt.hist(sim, bins = 20, density = True, color = 'royalblue', edgecolor = 'black')\n",
        "plt.title('Distribuição Empírica do Valor para Completar o Álbum')\n",
        "plt.show()"
      ],
      "metadata": {
        "colab": {
          "base_uri": "https://localhost:8080/",
          "height": 455
        },
        "id": "ipF_TNcbUGQQ",
        "outputId": "1e2b5042-085f-4526-a3d6-1e89db6d4115"
      },
      "execution_count": null,
      "outputs": [
        {
          "output_type": "display_data",
          "data": {
            "text/plain": [
              "<Figure size 640x480 with 1 Axes>"
            ],
            "image/png": "[encoded data removed]"
          },
          "metadata": {}
        }
      ]
    },
    {
      "cell_type": "code",
      "source": [
        "# Questões 4 e 5\n",
        "prob1 = sum(np.array(sim) < 1500)/simulacoes\n",
        "prob2 = sum(np.array(sim) > np.array(sim).mean())/simulacoes\n",
        "\n",
        "print('A probabilidade de se gastar menos de R$ 1500 é {:.2f}%'.format(prob1*100))\n",
        "print('A probabilidade de se gastar mais que a média é {:.2f}%'.format(prob2*100))\n"
      ],
      "metadata": {
        "colab": {
          "base_uri": "https://localhost:8080/"
        },
        "id": "2dwh-grrVsGN",
        "outputId": "01ede972-b85a-4448-e8fd-b21549864445"
      },
      "execution_count": null,
      "outputs": [
        {
          "output_type": "stream",
          "name": "stdout",
          "text": [
            "A probabilidade de se gastar menos de R$ 1500 é 85.50%\n",
            "A probabilidade de se gastar mais que a média é 44.30%\n"
          ]
        }
      ]
    },
    {
      "cell_type": "code",
      "source": [
        "# Questão 6\n",
        "qts = np.quantile(sim, [0.025, 0.975])\n",
        "print('O intervalo de confiança de 95% para o gasto total é ({:.2f}, {:.2f})'.format(qts[0], qts[1]))"
      ],
      "metadata": {
        "colab": {
          "base_uri": "https://localhost:8080/"
        },
        "id": "utrcVj8NXWml",
        "outputId": "cdc12250-d899-4bd2-d602-8ae7248bfd78"
      },
      "execution_count": null,
      "outputs": [
        {
          "output_type": "stream",
          "name": "stdout",
          "text": [
            "O intervalo de confiança de 95% para o gasto total é (850.00, 1874.20)\n"
          ]
        }
      ]
    },
    {
      "cell_type": "markdown",
      "source": [
        "### **E quando estamos trocando figurinhas na praça?**"
      ],
      "metadata": {
        "id": "EhVeAGOWXm5J"
      }
    },
    {
      "cell_type": "markdown",
      "source": [
        "Vamos ajustar a função que simula o completamento de um álbum, para funcionar para uma quantidade variável de álbuns, representando assim uma estratégia de completar o álbum em grupo."
      ],
      "metadata": {
        "id": "6E_0jJ0KXrMo"
      }
    },
    {
      "cell_type": "code",
      "source": [
        "import time"
      ],
      "metadata": {
        "id": "Kw0t-WadgRcA"
      },
      "execution_count": null,
      "outputs": []
    },
    {
      "cell_type": "code",
      "source": [
        "# Comprando figurinhas até completar o álbum\n",
        "def SimulaAlbum(qtde_albuns = 1):\n",
        "    album = np.zeros(n_album)\n",
        "    pacotes = 0\n",
        "    while not np.all(album >= qtde_albuns):\n",
        "        pacotinho = np.random.choice(range(n_album), 4)\n",
        "        pacotes += 1\n",
        "\n",
        "        for i in pacotinho:\n",
        "            album[i] += 1\n",
        "\n",
        "\n",
        "    valor_gasto = qtde_albuns*preco_album + preco_pacote * pacotes\n",
        "    valor_gasto_por_album = valor_gasto/qtde_albuns\n",
        "\n",
        "    return valor_gasto, pacotes, valor_gasto_por_album\n",
        "\n",
        "SimulaAlbum(2)"
      ],
      "metadata": {
        "colab": {
          "base_uri": "https://localhost:8080/"
        },
        "id": "9haGPn_7g_IQ",
        "outputId": "17fe2f52-5441-4918-958a-4dec7ac2602b"
      },
      "execution_count": null,
      "outputs": [
        {
          "output_type": "execute_result",
          "data": {
            "text/plain": [
              "(1752, 433, 876.0)"
            ]
          },
          "metadata": {},
          "execution_count": 24
        }
      ]
    },
    {
      "cell_type": "code",
      "source": [
        "def Simulacao(qtde_albuns, simulacoes = 1000, silencio = False):\n",
        "    valores = []\n",
        "    for i in range(simulacoes):\n",
        "        valores.append(SimulaAlbum(qtde_albuns)[2])\n",
        "        if not silencio:\n",
        "            if (i+1) % 100 == 0:\n",
        "                print('Simulação: ', i+1, '/', simulacoes)\n",
        "    return valores\n",
        "\n",
        "sim = Simulacao(qtde_albuns = 2, simulacoes = 100)"
      ],
      "metadata": {
        "colab": {
          "base_uri": "https://localhost:8080/"
        },
        "id": "iWWh3NmwhEJa",
        "outputId": "047d76cf-d1b3-4d36-ce57-b7d219e610ca"
      },
      "execution_count": null,
      "outputs": [
        {
          "output_type": "stream",
          "name": "stdout",
          "text": [
            "Simulação:  100 / 100\n"
          ]
        }
      ]
    },
    {
      "cell_type": "code",
      "source": [
        "# Questões 7 e 8\n",
        "\n",
        "sim2 = Simulacao(2, 100, silencio = True)\n",
        "c2 = np.array(sim2).mean()\n",
        "\n",
        "sim3 = Simulacao(3, 100, silencio = True)\n",
        "c3 = np.array(sim3).mean()\n",
        "\n",
        "print('Custo médio entre 2 amigos:', round(c2, 2) )\n",
        "print('Custo médio entre 3 amigos:', round(c3, 2) )"
      ],
      "metadata": {
        "colab": {
          "base_uri": "https://localhost:8080/"
        },
        "id": "fEzd_HpSgypu",
        "outputId": "a3aded33-077c-4795-b3fc-2e96bf408a47"
      },
      "execution_count": null,
      "outputs": [
        {
          "output_type": "stream",
          "name": "stdout",
          "text": [
            "Custo médio entre 2 amigos: 879.5\n",
            "Custo médio entre 3 amigos: 716.63\n"
          ]
        }
      ]
    },
    {
      "cell_type": "code",
      "source": [
        "def SimulacaoAmigos(amigos = 40, simulacoes = 50):\n",
        "    medias = []\n",
        "    amigos = list(range(1, amigos + 1, 1))\n",
        "    for i in amigos:\n",
        "        t = time.time()\n",
        "        aux = Simulacao(i, simulacoes, silencio = True)\n",
        "        tempo = round(time.time() - t, 2)\n",
        "        print('Tempo total de {}s para a simulação com {} amigo(s)'.format(tempo, i))\n",
        "        medias.append(np.array(aux).mean())\n",
        "    return amigos, medias\n",
        "\n",
        "sim_amigos = SimulacaoAmigos(amigos = 10, simulacoes = 50)"
      ],
      "metadata": {
        "colab": {
          "base_uri": "https://localhost:8080/"
        },
        "id": "irijLFEAfPET",
        "outputId": "3cb03dc3-2c3f-4d51-8c57-c5aa823ce0b5"
      },
      "execution_count": null,
      "outputs": [
        {
          "output_type": "stream",
          "name": "stdout",
          "text": [
            "Tempo total de 1.45s para a simulação com 1 amigo(s)\n",
            "Tempo total de 1.84s para a simulação com 2 amigo(s)\n",
            "Tempo total de 2.35s para a simulação com 3 amigo(s)\n",
            "Tempo total de 2.6s para a simulação com 4 amigo(s)\n",
            "Tempo total de 3.66s para a simulação com 5 amigo(s)\n",
            "Tempo total de 3.26s para a simulação com 6 amigo(s)\n",
            "Tempo total de 4.03s para a simulação com 7 amigo(s)\n",
            "Tempo total de 4.66s para a simulação com 8 amigo(s)\n",
            "Tempo total de 5.09s para a simulação com 9 amigo(s)\n",
            "Tempo total de 5.12s para a simulação com 10 amigo(s)\n"
          ]
        }
      ]
    },
    {
      "cell_type": "code",
      "source": [
        "import math"
      ],
      "metadata": {
        "id": "77YCJSgahw2R"
      },
      "execution_count": null,
      "outputs": []
    },
    {
      "cell_type": "code",
      "source": [
        "def GraficoCustoAmigos(simulacao):\n",
        "\n",
        "    minimo_possivel = math.ceil(n_album/cromos_por_pacote)*preco_pacote\n",
        "\n",
        "    plt.figure(figsize=(18, 6))\n",
        "    plt.bar(simulacao[0], simulacao[1], width = 0.5, color = 'royalblue')\n",
        "    plt.xticks(simulacao[0])\n",
        "    plt.axhline(y = minimo_possivel, linestyle = 'dashed', color = 'blue')\n",
        "    plt.title('Custo médio aproximado para\\n completar o álbum em função do tamanho\\n do grupo de pessoas trocando figurinhas')\n",
        "    plt.show()\n",
        "\n",
        "GraficoCustoAmigos(sim_amigos)"
      ],
      "metadata": {
        "colab": {
          "base_uri": "https://localhost:8080/",
          "height": 414
        },
        "id": "KTqt3n1SgUOX",
        "outputId": "c7d7de58-fd8d-4f63-cf35-6e5d379c34c1"
      },
      "execution_count": null,
      "outputs": [
        {
          "output_type": "display_data",
          "data": {
            "text/plain": [
              "<Figure size 1800x600 with 1 Axes>"
            ],
            "image/png": "[encoded data removed]"
          },
          "metadata": {}
        }
      ]
    }
  ]
}
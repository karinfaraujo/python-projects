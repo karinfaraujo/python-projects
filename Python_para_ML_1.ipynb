{
  "nbformat": 4,
  "nbformat_minor": 0,
  "metadata": {
    "colab": {
      "provenance": [],
      "authorship_tag": "ABX9TyMbOb13igwBAOkSJzl0MNRs",
      "include_colab_link": true
    },
    "kernelspec": {
      "name": "python3",
      "display_name": "Python 3"
    },
    "language_info": {
      "name": "python"
    }
  },
  "cells": [
    {
      "cell_type": "markdown",
      "metadata": {
        "id": "view-in-github",
        "colab_type": "text"
      },
      "source": [
        "<a href=\"https://colab.research.google.com/github/karinfaraujo/python-projects/blob/main/Python_para_ML_1.ipynb\" target=\"_parent\"><img src=\"https://colab.research.google.com/assets/colab-badge.svg\" alt=\"Open In Colab\"/></a>"
      ]
    },
    {
      "cell_type": "markdown",
      "source": [
        "#**Python para Machine Learning - 1**\n",
        "\n",
        "\n"
      ],
      "metadata": {
        "id": "LR29lCiTjfCJ"
      }
    },
    {
      "cell_type": "markdown",
      "source": [
        "##**Atribuição de Variáveis**\n"
      ],
      "metadata": {
        "id": "i-204zsikPHQ"
      }
    },
    {
      "cell_type": "code",
      "source": [
        "nome = \"Karin\"\n",
        "sobrenome = 'Araujo'\n",
        "produto = \"Caixa d'agua\"\n",
        "citacao = '\"Vamos que vamos\"'\n",
        "print(nome)\n",
        "print(sobrenome)\n",
        "print(produto)\n",
        "print(citacao)\n"
      ],
      "metadata": {
        "colab": {
          "base_uri": "https://localhost:8080/"
        },
        "id": "CSMJ242TkY9f",
        "outputId": "45ade9dd-18ba-4fad-95bc-c4fdbd19b085"
      },
      "execution_count": null,
      "outputs": [
        {
          "output_type": "stream",
          "name": "stdout",
          "text": [
            "Karin\n",
            "Araujo\n",
            "Caixa d'agua\n",
            "\"Vamos que vamos\"\n"
          ]
        }
      ]
    },
    {
      "cell_type": "code",
      "source": [
        "idade = 31"
      ],
      "metadata": {
        "id": "HrMLoQEflplj"
      },
      "execution_count": null,
      "outputs": []
    },
    {
      "cell_type": "code",
      "source": [
        "nome *3"
      ],
      "metadata": {
        "colab": {
          "base_uri": "https://localhost:8080/",
          "height": 36
        },
        "id": "ycZVcEZklv-M",
        "outputId": "df0907dd-3d83-4eb0-b19f-bfd36ac83bc5"
      },
      "execution_count": null,
      "outputs": [
        {
          "output_type": "execute_result",
          "data": {
            "text/plain": [
              "'KarinKarinKarin'"
            ],
            "application/vnd.google.colaboratory.intrinsic+json": {
              "type": "string"
            }
          },
          "metadata": {},
          "execution_count": 4
        }
      ]
    },
    {
      "cell_type": "code",
      "source": [
        "nome_completo = nome + ' '+ sobrenome"
      ],
      "metadata": {
        "id": "6QsFsaX3mTLs"
      },
      "execution_count": null,
      "outputs": []
    },
    {
      "cell_type": "markdown",
      "source": [
        "##**Primeiras Funções**"
      ],
      "metadata": {
        "id": "xBXQj8pAqMB4"
      }
    },
    {
      "cell_type": "markdown",
      "source": [
        " A função **len** retorna o tamanho de uma string (e de outros tipos de objetos também)."
      ],
      "metadata": {
        "id": "MUGfMPoAqvEz"
      }
    },
    {
      "cell_type": "code",
      "source": [
        "len(nome_completo)"
      ],
      "metadata": {
        "colab": {
          "base_uri": "https://localhost:8080/"
        },
        "id": "R6jJQp4mm9AH",
        "outputId": "a64b0354-5ac6-47d7-cf9d-7e437a4dcfe4"
      },
      "execution_count": null,
      "outputs": [
        {
          "output_type": "execute_result",
          "data": {
            "text/plain": [
              "12"
            ]
          },
          "metadata": {},
          "execution_count": 6
        }
      ]
    },
    {
      "cell_type": "markdown",
      "source": [
        "A função **round**, arredonda um número de acordo com as casas decimas desejadas."
      ],
      "metadata": {
        "id": "_vOMbRhFq7Av"
      }
    },
    {
      "cell_type": "code",
      "source": [
        "round (31.5)"
      ],
      "metadata": {
        "colab": {
          "base_uri": "https://localhost:8080/"
        },
        "id": "Hc1uK71VnPpt",
        "outputId": "875d08f9-63a1-49a3-8b16-49459c23af33"
      },
      "execution_count": null,
      "outputs": [
        {
          "output_type": "execute_result",
          "data": {
            "text/plain": [
              "32"
            ]
          },
          "metadata": {},
          "execution_count": 28
        }
      ]
    },
    {
      "cell_type": "code",
      "source": [
        "'O nome dado foi {} e a idade foi {}'.format(nome,idade)"
      ],
      "metadata": {
        "colab": {
          "base_uri": "https://localhost:8080/",
          "height": 36
        },
        "id": "NAuHmitonX1Y",
        "outputId": "2da35104-a11f-45cd-e73d-00deae2e23d5"
      },
      "execution_count": null,
      "outputs": [
        {
          "output_type": "execute_result",
          "data": {
            "text/plain": [
              "'O nome dado foi Karin e a idade foi 31'"
            ],
            "application/vnd.google.colaboratory.intrinsic+json": {
              "type": "string"
            }
          },
          "metadata": {},
          "execution_count": 31
        }
      ]
    },
    {
      "cell_type": "markdown",
      "source": [
        "##**Operadores Aritméticos**\n"
      ],
      "metadata": {
        "id": "H7VovleLoN8V"
      }
    },
    {
      "cell_type": "code",
      "source": [
        "a = 7\n",
        "b = 2"
      ],
      "metadata": {
        "id": "zECopHJCo-Xm"
      },
      "execution_count": null,
      "outputs": []
    },
    {
      "cell_type": "code",
      "source": [
        "a, b = 7,2"
      ],
      "metadata": {
        "id": "vTMgA1ZcpDNl"
      },
      "execution_count": null,
      "outputs": []
    },
    {
      "cell_type": "code",
      "source": [
        "print(a)\n",
        "print(b)\n"
      ],
      "metadata": {
        "colab": {
          "base_uri": "https://localhost:8080/"
        },
        "id": "njclapD9pHQ1",
        "outputId": "d9fbaf55-21a1-4d01-f27d-142ac356e69b"
      },
      "execution_count": null,
      "outputs": [
        {
          "output_type": "stream",
          "name": "stdout",
          "text": [
            "7\n",
            "2\n"
          ]
        }
      ]
    },
    {
      "cell_type": "code",
      "source": [
        "print(a + b) # Soma entre a e b"
      ],
      "metadata": {
        "colab": {
          "base_uri": "https://localhost:8080/"
        },
        "id": "5LF0O3nXpLzX",
        "outputId": "b5fdc99b-2253-4c58-8a4a-4e667bf11d6d"
      },
      "execution_count": null,
      "outputs": [
        {
          "output_type": "stream",
          "name": "stdout",
          "text": [
            "9\n"
          ]
        }
      ]
    },
    {
      "cell_type": "code",
      "source": [
        "print(a - b) # Diferença entre a e b"
      ],
      "metadata": {
        "colab": {
          "base_uri": "https://localhost:8080/"
        },
        "id": "A_0itHivpb-q",
        "outputId": "fa61e40d-4b24-4c9b-c393-197edbacf07a"
      },
      "execution_count": null,
      "outputs": [
        {
          "output_type": "stream",
          "name": "stdout",
          "text": [
            "5\n"
          ]
        }
      ]
    },
    {
      "cell_type": "code",
      "source": [
        "print (a * b) # Produto entre a e b"
      ],
      "metadata": {
        "colab": {
          "base_uri": "https://localhost:8080/"
        },
        "id": "kgTKE4nupg37",
        "outputId": "4a86bf06-4e2b-445c-a3b3-1de3d4ad9a6f"
      },
      "execution_count": null,
      "outputs": [
        {
          "output_type": "stream",
          "name": "stdout",
          "text": [
            "14\n"
          ]
        }
      ]
    },
    {
      "cell_type": "code",
      "source": [
        "print (a / b) # Divisão usual entre a e b"
      ],
      "metadata": {
        "colab": {
          "base_uri": "https://localhost:8080/"
        },
        "id": "AZNp6xudpmHl",
        "outputId": "8468176e-d9bc-4d25-d049-25de04a7f52e"
      },
      "execution_count": null,
      "outputs": [
        {
          "output_type": "stream",
          "name": "stdout",
          "text": [
            "3.5\n"
          ]
        }
      ]
    },
    {
      "cell_type": "code",
      "source": [
        "print (a // b) # A divisão entre a e b, removendo as partes decimais"
      ],
      "metadata": {
        "colab": {
          "base_uri": "https://localhost:8080/"
        },
        "id": "5KKBFTXpp0Zv",
        "outputId": "e5d79e28-35c5-4845-8d20-9682a52d47ed"
      },
      "execution_count": null,
      "outputs": [
        {
          "output_type": "stream",
          "name": "stdout",
          "text": [
            "3\n"
          ]
        }
      ]
    },
    {
      "cell_type": "code",
      "source": [
        "print (a % b) # O resto da divisão inteira de a por b"
      ],
      "metadata": {
        "colab": {
          "base_uri": "https://localhost:8080/"
        },
        "id": "8MEeje9Zp5Mi",
        "outputId": "03652750-d862-44ce-a28f-373ecb838b73"
      },
      "execution_count": null,
      "outputs": [
        {
          "output_type": "stream",
          "name": "stdout",
          "text": [
            "1\n"
          ]
        }
      ]
    },
    {
      "cell_type": "code",
      "source": [
        "print (a ** b) # a elevado a b\n"
      ],
      "metadata": {
        "colab": {
          "base_uri": "https://localhost:8080/"
        },
        "id": "vEUoUR4yp_gQ",
        "outputId": "edfdb205-eb3e-4383-cc19-2647cd3674f9"
      },
      "execution_count": null,
      "outputs": [
        {
          "output_type": "stream",
          "name": "stdout",
          "text": [
            "49\n"
          ]
        }
      ]
    },
    {
      "cell_type": "code",
      "source": [
        "min(a,b) # Valor mínimo"
      ],
      "metadata": {
        "colab": {
          "base_uri": "https://localhost:8080/"
        },
        "id": "JnvUPNq0qKDH",
        "outputId": "a2041ed7-0638-4af6-bc7f-3662883b91d3"
      },
      "execution_count": null,
      "outputs": [
        {
          "output_type": "execute_result",
          "data": {
            "text/plain": [
              "2"
            ]
          },
          "metadata": {},
          "execution_count": 17
        }
      ]
    },
    {
      "cell_type": "code",
      "source": [
        "max (a,b) # Valor máximo"
      ],
      "metadata": {
        "colab": {
          "base_uri": "https://localhost:8080/"
        },
        "id": "1K3tbvSPqUZV",
        "outputId": "9aaf29cd-cb9f-4712-e329-b506e589bcf6"
      },
      "execution_count": null,
      "outputs": [
        {
          "output_type": "execute_result",
          "data": {
            "text/plain": [
              "7"
            ]
          },
          "metadata": {},
          "execution_count": 18
        }
      ]
    },
    {
      "cell_type": "markdown",
      "source": [
        "##**Comparações e Booleanos**\n"
      ],
      "metadata": {
        "id": "jZjuaeEtqZGh"
      }
    },
    {
      "cell_type": "markdown",
      "source": [
        "A resposta é um objeto do tipo **booleano**, que é indicado por **True** ou **False**, indicando, respectivamente, se a resposta é verdadeira ou falsa."
      ],
      "metadata": {
        "id": "gbn76NCOsinK"
      }
    },
    {
      "cell_type": "code",
      "source": [
        "a == b"
      ],
      "metadata": {
        "colab": {
          "base_uri": "https://localhost:8080/"
        },
        "id": "ZN2kEgmgqgKx",
        "outputId": "302f20f7-d515-44f0-9a9d-ef73be00603f"
      },
      "execution_count": null,
      "outputs": [
        {
          "output_type": "execute_result",
          "data": {
            "text/plain": [
              "False"
            ]
          },
          "metadata": {},
          "execution_count": 46
        }
      ]
    },
    {
      "cell_type": "code",
      "source": [
        "type(a == b)"
      ],
      "metadata": {
        "colab": {
          "base_uri": "https://localhost:8080/"
        },
        "id": "QFmAF21AqkBL",
        "outputId": "fd16a8f9-8b7a-48cb-c778-ceeee10f5ddf"
      },
      "execution_count": null,
      "outputs": [
        {
          "output_type": "execute_result",
          "data": {
            "text/plain": [
              "bool"
            ]
          },
          "metadata": {},
          "execution_count": 47
        }
      ]
    },
    {
      "cell_type": "code",
      "source": [
        "a > b"
      ],
      "metadata": {
        "colab": {
          "base_uri": "https://localhost:8080/"
        },
        "id": "KrgxjR_3qnfl",
        "outputId": "aa9dd9a3-cb93-4569-d3c2-585a18379175"
      },
      "execution_count": null,
      "outputs": [
        {
          "output_type": "execute_result",
          "data": {
            "text/plain": [
              "True"
            ]
          },
          "metadata": {},
          "execution_count": 48
        }
      ]
    },
    {
      "cell_type": "code",
      "source": [
        "a < b"
      ],
      "metadata": {
        "colab": {
          "base_uri": "https://localhost:8080/"
        },
        "id": "61v4iO-VqrNH",
        "outputId": "cb8c4938-4373-4597-f7c8-48fc352b37f1"
      },
      "execution_count": null,
      "outputs": [
        {
          "output_type": "execute_result",
          "data": {
            "text/plain": [
              "False"
            ]
          },
          "metadata": {},
          "execution_count": 49
        }
      ]
    },
    {
      "cell_type": "code",
      "source": [
        "a >= b"
      ],
      "metadata": {
        "colab": {
          "base_uri": "https://localhost:8080/"
        },
        "id": "r9T2VnQ_qtIF",
        "outputId": "08bd4ea9-0d35-4f38-cbc6-c6b9fb48ce18"
      },
      "execution_count": null,
      "outputs": [
        {
          "output_type": "execute_result",
          "data": {
            "text/plain": [
              "True"
            ]
          },
          "metadata": {},
          "execution_count": 50
        }
      ]
    },
    {
      "cell_type": "code",
      "source": [
        "a <= b"
      ],
      "metadata": {
        "colab": {
          "base_uri": "https://localhost:8080/"
        },
        "id": "M_KJBEt_qwsj",
        "outputId": "794aa741-f5f9-4edb-c31b-369075ce4ab8"
      },
      "execution_count": null,
      "outputs": [
        {
          "output_type": "execute_result",
          "data": {
            "text/plain": [
              "False"
            ]
          },
          "metadata": {},
          "execution_count": 51
        }
      ]
    },
    {
      "cell_type": "markdown",
      "source": [
        "##**Condicional IF-ELSE**\n"
      ],
      "metadata": {
        "id": "6rBz90lHq4qi"
      }
    },
    {
      "cell_type": "markdown",
      "source": [
        "Veja abaixo como funciona a estrutura geral de condicionais no Python.\n",
        "\n",
        "Temos a versão **IF ELSE**, e a versão **IF ELIF ELSE**.\n",
        "\n",
        "É possível utlizar o **ELIF** várias vezes se necessário.\n",
        "\n",
        "No espaço de condição, o Python espera um objeto booleano. Se for True, ele executa, se for False, segue adiante.\n",
        "\n",
        "Note a estrutura de identação do Python. Aqui não utilizamos (), [] ou {} para estipular o que deve ser executado nas condicionais. Simplesmente coloca-se o código que deve ser executado na linha seguinte, mas identado. Em geral, se utiliza o espaço de 1 tab."
      ],
      "metadata": {
        "id": "DRxFL9_qw-D8"
      }
    },
    {
      "cell_type": "code",
      "source": [
        "# Exemplo\n",
        "a, b, c = 1, -2, 0\n",
        "\n",
        "delta = b**2 - 4*a*c\n",
        "\n",
        "if delta > 0:\n",
        "      x1 = (-b + delta**0.5)/(2*a)\n",
        "      x2 = (-b - delta**0.5)/(2*a)\n",
        "      print('As raízes são {} e {}'.format(x1, x2))\n",
        "elif delta == 0:\n",
        "      x = -b/(2*a)\n",
        "      print('A única raiz é {}'.format(x))\n",
        "else:\n",
        "      print('Essa equação não possui soluções reais')"
      ],
      "metadata": {
        "colab": {
          "base_uri": "https://localhost:8080/"
        },
        "id": "4fXIpRhRq9eT",
        "outputId": "3ace8ae6-1bf2-413c-ca54-eaf60a0ec034"
      },
      "execution_count": null,
      "outputs": [
        {
          "output_type": "stream",
          "name": "stdout",
          "text": [
            "As raízes são 2.0 e 0.0\n"
          ]
        }
      ]
    },
    {
      "cell_type": "markdown",
      "source": [
        "##**Definição de Funções**"
      ],
      "metadata": {
        "id": "g9BKerFoy87O"
      }
    },
    {
      "cell_type": "markdown",
      "source": [
        "Uma função é um recurso para não repetir o mesmo código desnecessariamente. Assim como as funções da matemática, sua tarefa é transformar um input, uma entrada, uma coleção de variáveis, em uma saída, um output.\n",
        "\n",
        "Da mesma maneira que na estrutura de condicionais, o conteúdo de uma função fica nas linhas seguintes sendo indicados pela **indentação** do código."
      ],
      "metadata": {
        "id": "-nvY2e3qzCQW"
      }
    },
    {
      "cell_type": "code",
      "source": [
        "# Exemplo\n",
        "def Bhaskara(a, b, c):\n",
        "    # valor de a for igual a zero\n",
        "    if a == 0:\n",
        "        print(\"Quando a = 0 não se aplica Bhaskara\")\n",
        "    else:\n",
        "        delta = b**2 - 4*a*c\n",
        "\n",
        "        if delta > 0:\n",
        "            x1 = (-b + delta**0.5)/(2*a)\n",
        "            x2 = (-b - delta**0.5)/(2*a)\n",
        "            x = -b/(2*a)\n",
        "            print('As raízes são {} e {}'.format(round(x1, 2), round(x2, 2)))\n",
        "        elif delta == 0:\n",
        "            x = -b/(2*a)\n",
        "            print('A única raiz é {}'.format(x))\n",
        "        else:\n",
        "            print('Essa equação não possui soluções reais')"
      ],
      "metadata": {
        "id": "gugmMmlSr2bz"
      },
      "execution_count": null,
      "outputs": []
    },
    {
      "cell_type": "code",
      "source": [
        "Bhaskara(3, 2, 0.9)"
      ],
      "metadata": {
        "colab": {
          "base_uri": "https://localhost:8080/"
        },
        "id": "Ostj-zr2uyRi",
        "outputId": "a7427338-d4cc-4ac4-abd8-8fc89c75805d"
      },
      "execution_count": null,
      "outputs": [
        {
          "output_type": "stream",
          "name": "stdout",
          "text": [
            "Quando a = 0 não se aplica Bhaskara\n"
          ]
        }
      ]
    },
    {
      "cell_type": "code",
      "source": [
        "Bhaskara(-3, 2, 0.9)"
      ],
      "metadata": {
        "colab": {
          "base_uri": "https://localhost:8080/"
        },
        "id": "bfJcXigDv-64",
        "outputId": "b25a41c4-6cb4-4cf5-fcae-d7bad9068c8e"
      },
      "execution_count": null,
      "outputs": [
        {
          "output_type": "stream",
          "name": "stdout",
          "text": [
            "As raízes são -0.31 e 0.97\n"
          ]
        }
      ]
    },
    {
      "cell_type": "code",
      "source": [
        "Bhaskara(1, -2, 1)"
      ],
      "metadata": {
        "colab": {
          "base_uri": "https://localhost:8080/"
        },
        "id": "brx2zlvWwCsW",
        "outputId": "360b8259-c80d-427a-9383-05cfc87fba2d"
      },
      "execution_count": null,
      "outputs": [
        {
          "output_type": "stream",
          "name": "stdout",
          "text": [
            "A única raiz é 1.0\n"
          ]
        }
      ]
    },
    {
      "cell_type": "markdown",
      "source": [
        "##**Importação de Bibliotecas**"
      ],
      "metadata": {
        "id": "ZlsLBAgXwHtV"
      }
    },
    {
      "cell_type": "code",
      "source": [
        "from math import pi\n",
        "print(pi)"
      ],
      "metadata": {
        "id": "pwc7je7bu3wz",
        "colab": {
          "base_uri": "https://localhost:8080/"
        },
        "outputId": "0227b37d-7108-4430-8056-553a83a0cde8"
      },
      "execution_count": null,
      "outputs": [
        {
          "output_type": "stream",
          "name": "stdout",
          "text": [
            "3.141592653589793\n"
          ]
        }
      ]
    },
    {
      "cell_type": "code",
      "source": [
        "import math\n",
        "print(math.pi)"
      ],
      "metadata": {
        "colab": {
          "base_uri": "https://localhost:8080/"
        },
        "id": "moWRcRW-waNk",
        "outputId": "ba078a0b-dce3-4050-8bfa-08a08db81912"
      },
      "execution_count": null,
      "outputs": [
        {
          "output_type": "stream",
          "name": "stdout",
          "text": [
            "3.141592653589793\n"
          ]
        }
      ]
    },
    {
      "cell_type": "code",
      "source": [
        "import math as m\n",
        "print(m.pi)"
      ],
      "metadata": {
        "colab": {
          "base_uri": "https://localhost:8080/"
        },
        "id": "-EcTgJbBwHON",
        "outputId": "dbf89b45-2b27-4d0a-fe4b-3d783441b10d"
      },
      "execution_count": null,
      "outputs": [
        {
          "output_type": "stream",
          "name": "stdout",
          "text": [
            "3.141592653589793\n"
          ]
        }
      ]
    }
  ]
}
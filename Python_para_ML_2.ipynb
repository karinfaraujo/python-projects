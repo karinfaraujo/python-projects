{
  "nbformat": 4,
  "nbformat_minor": 0,
  "metadata": {
    "colab": {
      "provenance": [],
      "authorship_tag": "ABX9TyMJr+eQh/cDT2bMgnTPlFPE",
      "include_colab_link": true
    },
    "kernelspec": {
      "name": "python3",
      "display_name": "Python 3"
    },
    "language_info": {
      "name": "python"
    }
  },
  "cells": [
    {
      "cell_type": "markdown",
      "metadata": {
        "id": "view-in-github",
        "colab_type": "text"
      },
      "source": [
        "<a href=\"https://colab.research.google.com/github/karinfaraujo/karinfaraujo/blob/main/Python_para_ML_2.ipynb\" target=\"_parent\"><img src=\"https://colab.research.google.com/assets/colab-badge.svg\" alt=\"Open In Colab\"/></a>"
      ]
    },
    {
      "cell_type": "markdown",
      "source": [
        "#**Python para Machine Learning - 2**"
      ],
      "metadata": {
        "id": "FdTG6F4t5i1J"
      }
    },
    {
      "cell_type": "markdown",
      "source": [
        "##**Importação de Bibliotecas**"
      ],
      "metadata": {
        "id": "Bq0s1HwSW20U"
      }
    },
    {
      "cell_type": "markdown",
      "source": [
        "Existem várias maneiras de se importar funções de uma biblioteca a parte no Python.\n",
        "\n",
        "Uma biblioteca precisa ser instalada antes de ser importada. As bibliotecas utilizadas já estão instaladas no ambiente do Google Colab, por essa razão não é necessária fazer uma instalação prévia."
      ],
      "metadata": {
        "id": "Auha16xZ51bl"
      }
    },
    {
      "cell_type": "code",
      "source": [
        "import math\n",
        "print(math.pi)"
      ],
      "metadata": {
        "colab": {
          "base_uri": "https://localhost:8080/"
        },
        "id": "cpzbm7wlW-bO",
        "outputId": "b7fffb1d-280d-43ab-e227-80a8d1a34830"
      },
      "execution_count": null,
      "outputs": [
        {
          "output_type": "stream",
          "name": "stdout",
          "text": [
            "3.141592653589793\n"
          ]
        }
      ]
    },
    {
      "cell_type": "code",
      "source": [
        "from math import pi\n",
        "print(pi)"
      ],
      "metadata": {
        "colab": {
          "base_uri": "https://localhost:8080/"
        },
        "id": "CR6mvfCxXnHR",
        "outputId": "92c45878-4229-457f-c400-086ee6cf8863"
      },
      "execution_count": null,
      "outputs": [
        {
          "output_type": "stream",
          "name": "stdout",
          "text": [
            "3.141592653589793\n"
          ]
        }
      ]
    },
    {
      "cell_type": "code",
      "source": [
        "import math as m\n",
        "print(m.pi)"
      ],
      "metadata": {
        "colab": {
          "base_uri": "https://localhost:8080/"
        },
        "id": "PFDjhuxNXuxY",
        "outputId": "10f64796-094e-49fd-a98d-d8ebd547d744"
      },
      "execution_count": null,
      "outputs": [
        {
          "output_type": "stream",
          "name": "stdout",
          "text": [
            "3.141592653589793\n"
          ]
        }
      ]
    },
    {
      "cell_type": "code",
      "source": [
        "from math import pi as Piiii\n",
        "print(Piiii)"
      ],
      "metadata": {
        "colab": {
          "base_uri": "https://localhost:8080/"
        },
        "id": "FYkIDAg6X089",
        "outputId": "8d9aa978-dbe2-438e-b4b3-98d66ff2dfbe"
      },
      "execution_count": null,
      "outputs": [
        {
          "output_type": "stream",
          "name": "stdout",
          "text": [
            "3.141592653589793\n"
          ]
        }
      ]
    },
    {
      "cell_type": "code",
      "source": [
        "from math import *\n",
        "print(pi)\n",
        "print(sqrt(5))"
      ],
      "metadata": {
        "colab": {
          "base_uri": "https://localhost:8080/"
        },
        "id": "wtm4F6xbYDo8",
        "outputId": "cb96e8a3-30e8-4f9f-aaaf-9120d206e30d"
      },
      "execution_count": null,
      "outputs": [
        {
          "output_type": "stream",
          "name": "stdout",
          "text": [
            "3.141592653589793\n",
            "2.23606797749979\n"
          ]
        }
      ]
    },
    {
      "cell_type": "markdown",
      "source": [
        "**Exercício 1.**Considere um balde cuja base possui raio  r1  e altura igual ao diâmetro da base. Considere também uma esfera de raio  r2  cheia de água. Faça um programa que verifique se o volume da esfera cabe no balde, dados os valores de  r1  e  r2 ."
      ],
      "metadata": {
        "id": "bU-eMaIO6Ko9"
      }
    },
    {
      "cell_type": "code",
      "source": [
        "from math import pi\n",
        "\n",
        "def ChecaVolume(raio_balde, raio_esfera):\n",
        "  if raio_balde <=0:\n",
        "      print('Erro: valor do raio do balde inadequado')\n",
        "\n",
        "  elif raio_esfera <=0:\n",
        "      print('Erro: valor do raio da esfera inadequado')\n",
        "\n",
        "  else:\n",
        "    vol_balde = 2*raio_balde**3*pi\n",
        "    vol_esfera = 4/3*pi*raio_esfera**3\n",
        "\n",
        "    if vol_esfera <= vol_balde:\n",
        "        print('O volume da esfera cabe no balde')\n",
        "    else:\n",
        "        print('O volume da esfera não cabe no balde')"
      ],
      "metadata": {
        "id": "8jRJQyQJYWQk"
      },
      "execution_count": null,
      "outputs": []
    },
    {
      "cell_type": "code",
      "source": [
        "ChecaVolume(1,1)"
      ],
      "metadata": {
        "colab": {
          "base_uri": "https://localhost:8080/"
        },
        "id": "grF9FE6pZj4-",
        "outputId": "5b6236a1-2651-47ea-f9bc-b48b36215142"
      },
      "execution_count": null,
      "outputs": [
        {
          "output_type": "stream",
          "name": "stdout",
          "text": [
            "O volume da esfera cabe no balde\n"
          ]
        }
      ]
    },
    {
      "cell_type": "markdown",
      "source": [
        "##**Operadores Lógicos**"
      ],
      "metadata": {
        "id": "U5uTRR7bcRqP"
      }
    },
    {
      "cell_type": "markdown",
      "source": [
        "Alguns operadores lógicos importantes:\n",
        "- ``and`` para o conectivo ``e``\n",
        "- ``or`` para o conectivo ``ou``\n",
        "- ``not`` para a negação de algo"
      ],
      "metadata": {
        "id": "pIKPQ-Ov8O1o"
      }
    },
    {
      "cell_type": "code",
      "source": [
        "True and True"
      ],
      "metadata": {
        "colab": {
          "base_uri": "https://localhost:8080/"
        },
        "id": "faP4KtwzcY0n",
        "outputId": "c30cef45-dca8-479a-a695-04183a65cbf9"
      },
      "execution_count": null,
      "outputs": [
        {
          "output_type": "execute_result",
          "data": {
            "text/plain": [
              "True"
            ]
          },
          "metadata": {},
          "execution_count": 19
        }
      ]
    },
    {
      "cell_type": "code",
      "source": [
        "True and False"
      ],
      "metadata": {
        "colab": {
          "base_uri": "https://localhost:8080/"
        },
        "id": "n0ZFa9Ukcb4N",
        "outputId": "152b1045-ca42-43e8-f69b-d011010ba141"
      },
      "execution_count": null,
      "outputs": [
        {
          "output_type": "execute_result",
          "data": {
            "text/plain": [
              "False"
            ]
          },
          "metadata": {},
          "execution_count": 20
        }
      ]
    },
    {
      "cell_type": "code",
      "source": [
        "True or True"
      ],
      "metadata": {
        "colab": {
          "base_uri": "https://localhost:8080/"
        },
        "id": "UWPY3GlUceNT",
        "outputId": "a838f99b-58c7-4438-b0a8-b04356cc5764"
      },
      "execution_count": null,
      "outputs": [
        {
          "output_type": "execute_result",
          "data": {
            "text/plain": [
              "True"
            ]
          },
          "metadata": {},
          "execution_count": 21
        }
      ]
    },
    {
      "cell_type": "code",
      "source": [
        "True or False"
      ],
      "metadata": {
        "colab": {
          "base_uri": "https://localhost:8080/"
        },
        "id": "TXU1uaZscf9E",
        "outputId": "8306409b-e116-4dc6-ec30-b70c48bd1eff"
      },
      "execution_count": null,
      "outputs": [
        {
          "output_type": "execute_result",
          "data": {
            "text/plain": [
              "True"
            ]
          },
          "metadata": {},
          "execution_count": 22
        }
      ]
    },
    {
      "cell_type": "code",
      "source": [
        "not True"
      ],
      "metadata": {
        "colab": {
          "base_uri": "https://localhost:8080/"
        },
        "id": "giN39zp_chfb",
        "outputId": "f2ea2924-1e46-465e-92aa-6660462eea9c"
      },
      "execution_count": null,
      "outputs": [
        {
          "output_type": "execute_result",
          "data": {
            "text/plain": [
              "False"
            ]
          },
          "metadata": {},
          "execution_count": 23
        }
      ]
    },
    {
      "cell_type": "code",
      "source": [
        "not False"
      ],
      "metadata": {
        "colab": {
          "base_uri": "https://localhost:8080/"
        },
        "id": "GE8EAmolcjo7",
        "outputId": "7e772a64-899f-42d8-ff74-5ee4b2ffe7a1"
      },
      "execution_count": null,
      "outputs": [
        {
          "output_type": "execute_result",
          "data": {
            "text/plain": [
              "True"
            ]
          },
          "metadata": {},
          "execution_count": 24
        }
      ]
    },
    {
      "cell_type": "code",
      "source": [
        "any([False, False])"
      ],
      "metadata": {
        "colab": {
          "base_uri": "https://localhost:8080/"
        },
        "id": "4FzkHOAq8VLp",
        "outputId": "dc1d3699-2b2d-4158-8381-b3c921663c48"
      },
      "execution_count": null,
      "outputs": [
        {
          "output_type": "execute_result",
          "data": {
            "text/plain": [
              "False"
            ]
          },
          "metadata": {},
          "execution_count": 5
        }
      ]
    },
    {
      "cell_type": "code",
      "source": [
        "def ChecaVolume(raio_balde, raio_esfera):\n",
        "    if raio_balde > 0 and raio_esfera > 0: #Observe o conectivo 'AND\n",
        "\n",
        "        vol_balde = 2*raio_balde**3*pi\n",
        "        vol_esfera = 4/3*pi*raio_esfera**3\n",
        "\n",
        "        if vol_esfera <= vol_balde:\n",
        "            print('O volume da esfera cabe no balde')\n",
        "        else:\n",
        "            print('O volume da esfera não cabe no balde')\n",
        "    else:\n",
        "        print('Valores de entrada inadequados')"
      ],
      "metadata": {
        "id": "y0lhz_zJ8iLU"
      },
      "execution_count": null,
      "outputs": []
    },
    {
      "cell_type": "markdown",
      "source": [
        "##**Listas**"
      ],
      "metadata": {
        "id": "gXJ1dnZicz2d"
      }
    },
    {
      "cell_type": "markdown",
      "source": [
        "Um objeto do tipo lista é um dos mais importantes do universo Python. Sua versatilidade permite a construção e organização simples de diversas funcionalidades.**Uma lista é definida por colchetes [ ]**.\n",
        "\n",
        "**Importante**: A indexação no Python, assim como em diversas linguagens de programação, começam com índice 0\n",
        "\n",
        "Isso quer dizer que o primeiro elemento está na entrada 0 da lista, o segundo elemento na entrada 1, e assim por diante.\n",
        "\n",
        "Nós acessamos os elementos de uma lista também utilizando **colchetes**."
      ],
      "metadata": {
        "id": "EkUZIQvh8_OF"
      }
    },
    {
      "cell_type": "code",
      "source": [
        "lista = [1, 2, 3]"
      ],
      "metadata": {
        "id": "XPBShKaWc2qa"
      },
      "execution_count": null,
      "outputs": []
    },
    {
      "cell_type": "code",
      "source": [
        "print(lista)"
      ],
      "metadata": {
        "colab": {
          "base_uri": "https://localhost:8080/"
        },
        "id": "hxFXYi7sc96s",
        "outputId": "27b39a73-6041-40c3-b8be-337c87b6ce82"
      },
      "execution_count": null,
      "outputs": [
        {
          "output_type": "stream",
          "name": "stdout",
          "text": [
            "[1, 2, 3]\n"
          ]
        }
      ]
    },
    {
      "cell_type": "code",
      "source": [
        "lista = ['Karin', 31, False, len, ['A', 'B', 'C']] # Uma lista permite armazenar todos os tipos de objetos do Python"
      ],
      "metadata": {
        "id": "XWR7HVudc_YK"
      },
      "execution_count": null,
      "outputs": []
    },
    {
      "cell_type": "code",
      "source": [
        "lista[3] (lista[4]) #Pode-se acessar listas dentro de listas"
      ],
      "metadata": {
        "colab": {
          "base_uri": "https://localhost:8080/"
        },
        "id": "RdZzjEvVdPuZ",
        "outputId": "e5c42353-09d1-4b33-f8d6-4be28d4a2a79"
      },
      "execution_count": null,
      "outputs": [
        {
          "output_type": "execute_result",
          "data": {
            "text/plain": [
              "3"
            ]
          },
          "metadata": {},
          "execution_count": 41
        }
      ]
    },
    {
      "cell_type": "code",
      "source": [
        "string = 'Python é uma linguagem muito boa!'"
      ],
      "metadata": {
        "id": "zCHtNM9ZdYz2"
      },
      "execution_count": null,
      "outputs": []
    },
    {
      "cell_type": "code",
      "source": [
        "string[::-1] # Para inverter a ordem de uma lista"
      ],
      "metadata": {
        "colab": {
          "base_uri": "https://localhost:8080/",
          "height": 36
        },
        "id": "y-xVFwcSejbG",
        "outputId": "3f107b85-a050-45f6-e422-a26092e7c941"
      },
      "execution_count": null,
      "outputs": [
        {
          "output_type": "execute_result",
          "data": {
            "text/plain": [
              "'!aob otium megaugnil amu é nohtyP'"
            ],
            "application/vnd.google.colaboratory.intrinsic+json": {
              "type": "string"
            }
          },
          "metadata": {},
          "execution_count": 50
        }
      ]
    },
    {
      "cell_type": "markdown",
      "source": [
        "##**Funcoes Importantes**"
      ],
      "metadata": {
        "id": "PV-csrVUfJ7C"
      }
    },
    {
      "cell_type": "markdown",
      "source": [
        "O comando **input** serve para se comunicar com o usuário enquanto se executa um programa."
      ],
      "metadata": {
        "id": "OSgJaOnD-sk3"
      }
    },
    {
      "cell_type": "code",
      "source": [
        "x = input('Entre com o seu nome:')"
      ],
      "metadata": {
        "colab": {
          "base_uri": "https://localhost:8080/"
        },
        "id": "QzucP5VAemXL",
        "outputId": "23da02ab-43ef-4d64-95ea-c5ac1703dab7"
      },
      "execution_count": null,
      "outputs": [
        {
          "name": "stdout",
          "output_type": "stream",
          "text": [
            "Entre com o seu nome:Karin\n"
          ]
        }
      ]
    },
    {
      "cell_type": "code",
      "source": [
        "y = int(input('Entre com a sua idade: '))"
      ],
      "metadata": {
        "colab": {
          "base_uri": "https://localhost:8080/"
        },
        "id": "JS8ph06AfU6I",
        "outputId": "72804a85-e43e-45fb-e8bf-48509f57d271"
      },
      "execution_count": null,
      "outputs": [
        {
          "name": "stdout",
          "output_type": "stream",
          "text": [
            "Entre com a sua idade: 31\n"
          ]
        }
      ]
    },
    {
      "cell_type": "code",
      "source": [
        "y + 23"
      ],
      "metadata": {
        "colab": {
          "base_uri": "https://localhost:8080/"
        },
        "id": "ZnlTp4TDfgKl",
        "outputId": "eddb9b04-997a-44c0-926d-5cda8ce02203"
      },
      "execution_count": null,
      "outputs": [
        {
          "output_type": "execute_result",
          "data": {
            "text/plain": [
              "54"
            ]
          },
          "metadata": {},
          "execution_count": 58
        }
      ]
    },
    {
      "cell_type": "markdown",
      "source": [
        "A função **range** cria um objeto capaz de gerar listas de valores entre dois números. Ela não gera a lista em si, mas um gerador de lista pra quando ela for utilizada. **Ela trabalha com intervalos semi-abertos do tipo [ , )**.\n",
        "\n",
        "Para listar os valores da função range, utilize o comando **list**."
      ],
      "metadata": {
        "id": "u5MASyy3_bAv"
      }
    },
    {
      "cell_type": "code",
      "source": [
        "list(range(10, 21, 2))"
      ],
      "metadata": {
        "colab": {
          "base_uri": "https://localhost:8080/"
        },
        "id": "hoEZ7Blmfww3",
        "outputId": "6ff0c3f6-a756-4782-8587-b63ae6ace25b"
      },
      "execution_count": null,
      "outputs": [
        {
          "output_type": "execute_result",
          "data": {
            "text/plain": [
              "[10, 12, 14, 16, 18, 20]"
            ]
          },
          "metadata": {},
          "execution_count": 63
        }
      ]
    },
    {
      "cell_type": "code",
      "source": [
        "list('Python')"
      ],
      "metadata": {
        "colab": {
          "base_uri": "https://localhost:8080/"
        },
        "id": "_juWnyQMgbqs",
        "outputId": "d3da2740-2671-470c-e483-fc375ee5bee5"
      },
      "execution_count": null,
      "outputs": [
        {
          "output_type": "execute_result",
          "data": {
            "text/plain": [
              "['P', 'y', 't', 'h', 'o', 'n']"
            ]
          },
          "metadata": {},
          "execution_count": 64
        }
      ]
    },
    {
      "cell_type": "markdown",
      "source": [
        "##**Métodos de Strings**"
      ],
      "metadata": {
        "id": "lhPWQChV_oyi"
      }
    },
    {
      "cell_type": "code",
      "source": [
        "string.lower()"
      ],
      "metadata": {
        "colab": {
          "base_uri": "https://localhost:8080/",
          "height": 36
        },
        "id": "jAcbRBwEgexe",
        "outputId": "6e73a432-67d5-4569-c2ab-57510d33d412"
      },
      "execution_count": null,
      "outputs": [
        {
          "output_type": "execute_result",
          "data": {
            "text/plain": [
              "'python é uma linguagem muito boa!'"
            ],
            "application/vnd.google.colaboratory.intrinsic+json": {
              "type": "string"
            }
          },
          "metadata": {},
          "execution_count": 69
        }
      ]
    },
    {
      "cell_type": "code",
      "source": [
        "string.upper()"
      ],
      "metadata": {
        "colab": {
          "base_uri": "https://localhost:8080/",
          "height": 36
        },
        "id": "mav2wHfLgl4N",
        "outputId": "60b151f8-c8b5-4c83-d435-a40fe5d5cf9b"
      },
      "execution_count": null,
      "outputs": [
        {
          "output_type": "execute_result",
          "data": {
            "text/plain": [
              "'PYTHON É UMA LINGUAGEM MUITO BOA!'"
            ],
            "application/vnd.google.colaboratory.intrinsic+json": {
              "type": "string"
            }
          },
          "metadata": {},
          "execution_count": 71
        }
      ]
    },
    {
      "cell_type": "code",
      "source": [
        "string.lower().capitalize()"
      ],
      "metadata": {
        "colab": {
          "base_uri": "https://localhost:8080/",
          "height": 36
        },
        "id": "eRkIovHng9Ia",
        "outputId": "3f113545-9314-4db3-ab81-db9372ef953b"
      },
      "execution_count": null,
      "outputs": [
        {
          "output_type": "execute_result",
          "data": {
            "text/plain": [
              "'Python é uma linguagem muito boa!'"
            ],
            "application/vnd.google.colaboratory.intrinsic+json": {
              "type": "string"
            }
          },
          "metadata": {},
          "execution_count": 73
        }
      ]
    },
    {
      "cell_type": "code",
      "source": [
        "string.split('a')"
      ],
      "metadata": {
        "colab": {
          "base_uri": "https://localhost:8080/"
        },
        "id": "zCLT1hN3hGd6",
        "outputId": "7dab4e94-c340-46ad-c1be-1a28f69ec339"
      },
      "execution_count": null,
      "outputs": [
        {
          "output_type": "execute_result",
          "data": {
            "text/plain": [
              "['Python é um', ' lingu', 'gem muito bo', '!']"
            ]
          },
          "metadata": {},
          "execution_count": 76
        }
      ]
    },
    {
      "cell_type": "code",
      "source": [
        "lista.append(string)"
      ],
      "metadata": {
        "id": "RkgygHhfhhp4"
      },
      "execution_count": null,
      "outputs": []
    },
    {
      "cell_type": "code",
      "source": [
        "lista"
      ],
      "metadata": {
        "colab": {
          "base_uri": "https://localhost:8080/"
        },
        "id": "jFEjLgeFhiPX",
        "outputId": "fca1497e-ca6e-4e2e-b04f-3689557be0e9"
      },
      "execution_count": null,
      "outputs": [
        {
          "output_type": "execute_result",
          "data": {
            "text/plain": [
              "['Karin',\n",
              " 31,\n",
              " False,\n",
              " <function len(obj, /)>,\n",
              " 'Python é uma linguagem muito boa!']"
            ]
          },
          "metadata": {},
          "execution_count": 95
        }
      ]
    },
    {
      "cell_type": "code",
      "source": [
        "lista.pop()"
      ],
      "metadata": {
        "colab": {
          "base_uri": "https://localhost:8080/",
          "height": 36
        },
        "id": "bs7ZOIf5h4We",
        "outputId": "7c9997a3-b6ce-4b2d-902a-68b3afc3b689"
      },
      "execution_count": null,
      "outputs": [
        {
          "output_type": "execute_result",
          "data": {
            "text/plain": [
              "'Python é uma linguagem muito boa!'"
            ],
            "application/vnd.google.colaboratory.intrinsic+json": {
              "type": "string"
            }
          },
          "metadata": {},
          "execution_count": 96
        }
      ]
    },
    {
      "cell_type": "code",
      "source": [
        "lista"
      ],
      "metadata": {
        "colab": {
          "base_uri": "https://localhost:8080/"
        },
        "id": "Fn9DbUuEiTp9",
        "outputId": "15f1c100-59a6-4f0c-ee7b-a64b8bf64a98"
      },
      "execution_count": null,
      "outputs": [
        {
          "output_type": "execute_result",
          "data": {
            "text/plain": [
              "['Karin', 31, False, <function len(obj, /)>, ['A', 'B', 'C']]"
            ]
          },
          "metadata": {},
          "execution_count": 99
        }
      ]
    },
    {
      "cell_type": "markdown",
      "source": [
        "##**Itertadores FOR e WHILE**"
      ],
      "metadata": {
        "id": "wfI7rXZEiz5I"
      }
    },
    {
      "cell_type": "markdown",
      "source": [
        "Utilizamos a estrutura de repetição FOR sempre que desejamos repetir um certo pedaço de código, com alterações ou não, por um número pre-determinado de vezes."
      ],
      "metadata": {
        "id": "HoFEYv-z_4vk"
      }
    },
    {
      "cell_type": "code",
      "source": [
        "for i in [1, 2, 3, 4]:\n",
        "    print(i)"
      ],
      "metadata": {
        "colab": {
          "base_uri": "https://localhost:8080/"
        },
        "id": "hla5-SFzi8Vu",
        "outputId": "0b8c1a0d-9e68-4e05-8c54-a1224821c3e9"
      },
      "execution_count": null,
      "outputs": [
        {
          "output_type": "stream",
          "name": "stdout",
          "text": [
            "1\n",
            "2\n",
            "3\n",
            "4\n"
          ]
        }
      ]
    },
    {
      "cell_type": "code",
      "source": [
        "minha_lista = []\n",
        "for variante in range(10):\n",
        "  minha_lista.append(variante**2)\n",
        "print(minha_lista)"
      ],
      "metadata": {
        "colab": {
          "base_uri": "https://localhost:8080/"
        },
        "id": "3J95ueCnjLjc",
        "outputId": "2f5f443f-31fd-4f5c-b586-aef12bfc0a89"
      },
      "execution_count": null,
      "outputs": [
        {
          "output_type": "stream",
          "name": "stdout",
          "text": [
            "[0, 1, 4, 9, 16, 25, 36, 49, 64, 81]\n"
          ]
        }
      ]
    },
    {
      "cell_type": "markdown",
      "source": [
        "O iterador** WHILE** é utizado quando queremos repetir código sem saber de antemão quando este deve ser interrompido. Ele será finalizado quando alguma condição for satisfeita.\n",
        "\n",
        "Deve-se tomar cuidado em não escrever um WHILE infinito. Você terá que cancelar a execução do código para pará-lo.\n",
        "\n",
        "Deve-se utilizar o comando **break** para interromper o loop."
      ],
      "metadata": {
        "id": "bxxL6OPuAKuJ"
      }
    },
    {
      "cell_type": "code",
      "source": [
        "i = 1\n",
        "while True:\n",
        "    print(string)\n",
        "    i += 1\n",
        "    if i > 10:\n",
        "        break\n",
        "print('Acabou o loop')"
      ],
      "metadata": {
        "colab": {
          "base_uri": "https://localhost:8080/"
        },
        "id": "Z2qpHwE_jq9x",
        "outputId": "7d68435b-47aa-408d-cced-fafdb7a04336"
      },
      "execution_count": null,
      "outputs": [
        {
          "output_type": "stream",
          "name": "stdout",
          "text": [
            "Python é uma linguagem muito boa!\n",
            "Python é uma linguagem muito boa!\n",
            "Python é uma linguagem muito boa!\n",
            "Python é uma linguagem muito boa!\n",
            "Python é uma linguagem muito boa!\n",
            "Python é uma linguagem muito boa!\n",
            "Python é uma linguagem muito boa!\n",
            "Python é uma linguagem muito boa!\n",
            "Python é uma linguagem muito boa!\n",
            "Python é uma linguagem muito boa!\n",
            "Acabou o loop\n"
          ]
        }
      ]
    },
    {
      "cell_type": "markdown",
      "source": [
        "##**Projeto - Jogo da Roleta 💵**"
      ],
      "metadata": {
        "id": "_A7QvsD4lBFT"
      }
    },
    {
      "cell_type": "markdown",
      "source": [
        "Uma pessoa aposta em um número e aí se verifica se a roleta sorteou o número que a pessoa apostou. A roleta possui apenas os números de 0 a 10. O programa deve controlar a quantidade de fichas que o usuário tem para jogar."
      ],
      "metadata": {
        "id": "Vn7uRxCbBBZ7"
      }
    },
    {
      "cell_type": "code",
      "source": [
        "from random import randint"
      ],
      "metadata": {
        "id": "A_o1yiUllD7B"
      },
      "execution_count": null,
      "outputs": []
    },
    {
      "cell_type": "code",
      "source": [
        "# Exemplo 1\n",
        "def Jogo():\n",
        "  n = int(input('Entre com o numero que voce deseja apostar: '))\n",
        "  rol = randint(0, 5)\n",
        "  if n == rol:\n",
        "    print('***Você ganhou! ***')\n",
        "    return 5\n",
        "  else:\n",
        "    print('Não foi dessa vez')\n",
        "    return -1"
      ],
      "metadata": {
        "id": "NpgiAkFolN9D"
      },
      "execution_count": null,
      "outputs": []
    },
    {
      "cell_type": "code",
      "source": [
        "x = Jogo ()"
      ],
      "metadata": {
        "colab": {
          "base_uri": "https://localhost:8080/"
        },
        "id": "RicRnH_2qA3D",
        "outputId": "7834f070-718c-45f2-a025-1caec6b99caa"
      },
      "execution_count": null,
      "outputs": [
        {
          "output_type": "stream",
          "name": "stdout",
          "text": [
            "Entre com o numero que voce deseja apostar: 4\n",
            "Não foi dessa vez\n"
          ]
        }
      ]
    },
    {
      "cell_type": "code",
      "source": [
        "def Roleta():\n",
        "  fichas = int(input('\\nDigite quantas fichas você deseja comprar: '))\n",
        "\n",
        "  while fichas > 0:\n",
        "    aux = Jogo()\n",
        "    fichas += aux\n",
        "    print('\\nSeu numero de fichas é {}'.format(fichas))"
      ],
      "metadata": {
        "id": "G4NkoIzTq1Qc"
      },
      "execution_count": null,
      "outputs": []
    },
    {
      "cell_type": "code",
      "source": [
        "Roleta()"
      ],
      "metadata": {
        "colab": {
          "base_uri": "https://localhost:8080/"
        },
        "id": "GTy8XW6msSAS",
        "outputId": "a5a6a8ca-178c-4f7e-d8c7-afa151522ea3"
      },
      "execution_count": null,
      "outputs": [
        {
          "output_type": "stream",
          "name": "stdout",
          "text": [
            "\n",
            "Digite quantas fichas você deseja comprar: 2\n",
            "Entre com o numero que voce deseja apostar: 3\n",
            "Não foi dessa vez\n",
            "\n",
            "Seu numero de fichas é 1\n",
            "Entre com o numero que voce deseja apostar: 1\n",
            "***Você ganhou! ***\n",
            "\n",
            "Seu numero de fichas é 6\n",
            "Entre com o numero que voce deseja apostar: 5\n",
            "Não foi dessa vez\n",
            "\n",
            "Seu numero de fichas é 5\n",
            "Entre com o numero que voce deseja apostar: 4\n",
            "Não foi dessa vez\n",
            "\n",
            "Seu numero de fichas é 4\n",
            "Entre com o numero que voce deseja apostar: 6\n",
            "Não foi dessa vez\n",
            "\n",
            "Seu numero de fichas é 3\n",
            "Entre com o numero que voce deseja apostar: 2\n",
            "Não foi dessa vez\n",
            "\n",
            "Seu numero de fichas é 2\n",
            "Entre com o numero que voce deseja apostar: 1\n",
            "Não foi dessa vez\n",
            "\n",
            "Seu numero de fichas é 1\n",
            "Entre com o numero que voce deseja apostar: 8\n",
            "Não foi dessa vez\n",
            "\n",
            "Seu numero de fichas é 0\n"
          ]
        }
      ]
    },
    {
      "cell_type": "code",
      "source": [
        "# Exemplo 2\n",
        "from random import randint\n",
        "\n",
        "def Jogo():\n",
        "  n = input('\\nEm qual número da roleta você deseja apostar?')\n",
        "  if n == 'sair':\n",
        "      return 'sair'\n",
        "  else:\n",
        "    rol = randint(0, 5)\n",
        "    if int(n) == rol:\n",
        "        print('\\n' + '*' * 12)\n",
        "        print('Você ganhou!')\n",
        "        print('*' * 12)\n",
        "        saldo = 5\n",
        "    else:\n",
        "        print('\\nNão foi dessa vez!')\n",
        "        saldo = -1\n",
        "    return saldo"
      ],
      "metadata": {
        "id": "z6R_YryzCA_a"
      },
      "execution_count": null,
      "outputs": []
    },
    {
      "cell_type": "code",
      "source": [
        "Jogo()"
      ],
      "metadata": {
        "colab": {
          "base_uri": "https://localhost:8080/"
        },
        "id": "CBz8WcXaEr2p",
        "outputId": "553c8868-dc1c-4703-8684-ef4ea077af42"
      },
      "execution_count": null,
      "outputs": [
        {
          "output_type": "stream",
          "name": "stdout",
          "text": [
            "\n",
            "Em qual número da roleta você deseja apostar? 4\n",
            "\n",
            "Não foi dessa vez!\n"
          ]
        },
        {
          "output_type": "execute_result",
          "data": {
            "text/plain": [
              "-1"
            ]
          },
          "metadata": {},
          "execution_count": 17
        }
      ]
    },
    {
      "cell_type": "code",
      "source": [
        "def Roleta():\n",
        "\n",
        "    historico = []\n",
        "    print('\\nBem vindos a Roleta!')\n",
        "\n",
        "    fichas = int(input('\\nQunatas fichas você deseja comprar?'))\n",
        "\n",
        "    while fichas > 0:\n",
        "        a = Jogo()\n",
        "        if a == 'sair':\n",
        "            print('\\n***Fim de jogo, sei saldo final é de {} fichas***'.format(fichas))\n",
        "            print(historico)\n",
        "            break\n",
        "        else:\n",
        "            fichas += a\n",
        "            print('\\nSeu saldo de fichas é {}'.format(fichas))\n",
        "            if a == -1:\n",
        "                historico.append('D')\n",
        "            else:\n",
        "                historico.append('V')\n",
        "    else:\n",
        "        print('\\n***Fim de jogo!***')\n",
        "        print(historico)"
      ],
      "metadata": {
        "id": "9-HTomoZCg5g"
      },
      "execution_count": null,
      "outputs": []
    },
    {
      "cell_type": "code",
      "source": [
        "Roleta()"
      ],
      "metadata": {
        "colab": {
          "base_uri": "https://localhost:8080/"
        },
        "id": "zONXLRzNEbU2",
        "outputId": "3d9fea18-1c54-42ee-b845-755ef91ae5d8"
      },
      "execution_count": null,
      "outputs": [
        {
          "output_type": "stream",
          "name": "stdout",
          "text": [
            "\n",
            "Bem vindos a Roleta!\n",
            "\n",
            "Qunatas fichas você deseja comprar? 5\n",
            "\n",
            "Em qual número da roleta você deseja apostar?4\n",
            "\n",
            "Não foi dessa vez!\n",
            "\n",
            "Seu saldo de fichas é 4\n",
            "\n",
            "Em qual número da roleta você deseja apostar?3\n",
            "\n",
            "Não foi dessa vez!\n",
            "\n",
            "Seu saldo de fichas é 3\n",
            "\n",
            "Em qual número da roleta você deseja apostar?5\n",
            "\n",
            "Não foi dessa vez!\n",
            "\n",
            "Seu saldo de fichas é 2\n",
            "\n",
            "Em qual número da roleta você deseja apostar?1\n",
            "\n",
            "Não foi dessa vez!\n",
            "\n",
            "Seu saldo de fichas é 1\n",
            "\n",
            "Em qual número da roleta você deseja apostar?2\n",
            "\n",
            "Não foi dessa vez!\n",
            "\n",
            "Seu saldo de fichas é 0\n",
            "\n",
            "***Fim de jogo!***\n",
            "['D', 'D', 'D', 'D', 'D']\n"
          ]
        }
      ]
    }
  ]
}